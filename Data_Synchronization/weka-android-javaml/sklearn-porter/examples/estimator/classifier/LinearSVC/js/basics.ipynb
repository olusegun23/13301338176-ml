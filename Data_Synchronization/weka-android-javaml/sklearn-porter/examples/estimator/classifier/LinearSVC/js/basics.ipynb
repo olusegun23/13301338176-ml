{
 "cells": [
  {
   "cell_type": "markdown",
   "metadata": {},
   "source": [
    "# sklearn-porter\n",
    "\n",
    "Repository: https://github.com/nok/sklearn-porter\n",
    "\n",
    "## LinearSVC\n",
    "\n",
    "Documentation: [sklearn.svm.LinearSVC](http://scikit-learn.org/stable/modules/generated/sklearn.svm.LinearSVC.html)"
   ]
  },
  {
   "cell_type": "markdown",
   "metadata": {},
   "source": [
    "### Loading data:"
   ]
  },
  {
   "cell_type": "code",
   "execution_count": 1,
   "metadata": {},
   "outputs": [
    {
     "name": "stdout",
     "output_type": "stream",
     "text": [
      "((150, 4), (150,))\n"
     ]
    }
   ],
   "source": [
    "from sklearn.datasets import load_iris\n",
    "\n",
    "iris_data = load_iris()\n",
    "X = iris_data.data\n",
    "y = iris_data.target\n",
    "\n",
    "print(X.shape, y.shape)"
   ]
  },
  {
   "cell_type": "markdown",
   "metadata": {},
   "source": [
    "### Train classifier:"
   ]
  },
  {
   "cell_type": "code",
   "execution_count": 2,
   "metadata": {},
   "outputs": [
    {
     "data": {
      "text/plain": [
       "LinearSVC(C=1.0, class_weight=None, dual=True, fit_intercept=True,\n",
       "     intercept_scaling=1, loss='squared_hinge', max_iter=1000,\n",
       "     multi_class='ovr', penalty='l2', random_state=0, tol=0.0001,\n",
       "     verbose=0)"
      ]
     },
     "execution_count": 2,
     "metadata": {},
     "output_type": "execute_result"
    }
   ],
   "source": [
    "from sklearn import svm\n",
    "\n",
    "clf = svm.LinearSVC(C=1., random_state=0)\n",
    "clf.fit(X, y)"
   ]
  },
  {
   "cell_type": "markdown",
   "metadata": {},
   "source": [
    "### Transpile classifier:"
   ]
  },
  {
   "cell_type": "code",
   "execution_count": 4,
   "metadata": {
    "scrolled": false
   },
   "outputs": [
    {
     "name": "stdout",
     "output_type": "stream",
     "text": [
      "var LinearSVC = function(coefficients, intercepts) {\n",
      "\n",
      "    this.coefficients = coefficients;\n",
      "    this.intercepts = intercepts;\n",
      "\n",
      "    this.predict = function(features) {\n",
      "        var classIdx = 0,\n",
      "            classVal = Number.NEGATIVE_INFINITY,\n",
      "            prob = 0.;\n",
      "        for (var i = 0, il = this.intercepts.length; i < il; i++) {\n",
      "            prob = 0.;\n",
      "            for (var j = 0, jl = this.coefficients[0].length; j < jl; j++) {\n",
      "                prob += this.coefficients[i][j] * features[j];\n",
      "            }\n",
      "            if (prob + this.intercepts[i] > classVal) {\n",
      "                classVal = prob + this.intercepts[i];\n",
      "                classIdx = i;\n",
      "            }\n",
      "        }\n",
      "        return classIdx;\n",
      "    };\n",
      "\n",
      "};\n",
      "\n",
      "if (typeof process !== 'undefined' && typeof process.argv !== 'undefined') {\n",
      "    if (process.argv.length - 2 === 4) {\n",
      "\n",
      "        // Features\n",
      "        var features = process.argv.slice(2);\n",
      "\n",
      "        // Parameters:\n",
      "        var coefficients = [[0.18424209458473811, 0.45123000025163923, -0.80794587716737576, -0.45071660033253858], [0.052877455748516447, -0.89214995228605254, 0.40398084459610972, -0.9376821661447452], [-0.85070784319293802, -0.98670214922204336, 1.381010448739191, 1.8654095662423917]];\n",
      "        var intercepts = [0.10956266406702335, 1.6636707776739579, -1.7096109416521363];\n",
      "\n",
      "        // Prediction:\n",
      "        var clf = new LinearSVC(coefficients, intercepts);\n",
      "        var prediction = clf.predict(features);\n",
      "        console.log(prediction);\n",
      "\n",
      "    }\n",
      "}\n"
     ]
    }
   ],
   "source": [
    "from sklearn_porter import Porter\n",
    "\n",
    "porter = Porter(clf, language='js')\n",
    "output = porter.export()\n",
    "\n",
    "print(output)"
   ]
  }
 ],
 "metadata": {
  "kernelspec": {
   "display_name": "Python 2",
   "language": "python",
   "name": "python2"
  },
  "language_info": {
   "codemirror_mode": {
    "name": "ipython",
    "version": 2
   },
   "file_extension": ".py",
   "mimetype": "text/x-python",
   "name": "python",
   "nbconvert_exporter": "python",
   "pygments_lexer": "ipython2",
   "version": "2.7.13"
  }
 },
 "nbformat": 4,
 "nbformat_minor": 2
}
