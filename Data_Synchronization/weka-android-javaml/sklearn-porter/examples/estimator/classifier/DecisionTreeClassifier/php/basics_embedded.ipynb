{
 "cells": [
  {
   "cell_type": "markdown",
   "metadata": {},
   "source": [
    "# sklearn-porter\n",
    "\n",
    "Repository: https://github.com/nok/sklearn-porter\n",
    "\n",
    "## DecisionTreeClassifier\n",
    "\n",
    "Documentation: [sklearn.tree.DecisionTreeClassifier](http://scikit-learn.org/stable/modules/generated/sklearn.tree.DecisionTreeClassifier.html)"
   ]
  },
  {
   "cell_type": "markdown",
   "metadata": {},
   "source": [
    "### Loading data:"
   ]
  },
  {
   "cell_type": "code",
   "execution_count": 28,
   "metadata": {},
   "outputs": [
    {
     "name": "stdout",
     "output_type": "stream",
     "text": [
      "((150, 4), (150,))\n"
     ]
    }
   ],
   "source": [
    "from sklearn.datasets import load_iris\n",
    "\n",
    "iris_data = load_iris()\n",
    "X = iris_data.data\n",
    "y = iris_data.target\n",
    "\n",
    "print(X.shape, y.shape)"
   ]
  },
  {
   "cell_type": "markdown",
   "metadata": {},
   "source": [
    "### Train classifier:"
   ]
  },
  {
   "cell_type": "code",
   "execution_count": 29,
   "metadata": {},
   "outputs": [
    {
     "data": {
      "text/plain": [
       "DecisionTreeClassifier(class_weight=None, criterion='gini', max_depth=None,\n",
       "            max_features=None, max_leaf_nodes=None,\n",
       "            min_impurity_decrease=0.0, min_impurity_split=None,\n",
       "            min_samples_leaf=1, min_samples_split=2,\n",
       "            min_weight_fraction_leaf=0.0, presort=False, random_state=None,\n",
       "            splitter='best')"
      ]
     },
     "execution_count": 29,
     "metadata": {},
     "output_type": "execute_result"
    }
   ],
   "source": [
    "from sklearn.tree import tree\n",
    "\n",
    "clf = tree.DecisionTreeClassifier()\n",
    "clf.fit(X, y)"
   ]
  },
  {
   "cell_type": "markdown",
   "metadata": {},
   "source": [
    "\n",
    "### Transpile classifier:"
   ]
  },
  {
   "cell_type": "code",
   "execution_count": 30,
   "metadata": {
    "scrolled": false
   },
   "outputs": [
    {
     "name": "stdout",
     "output_type": "stream",
     "text": [
      "<?php\n",
      "\n",
      "class DecisionTreeClassifier {\n",
      "\n",
      "    public static function predict($atts) {\n",
      "        if (sizeof($atts) != 4) { return -1; }\n",
      "    \n",
      "        $classes = array_fill(0, 3, 0);\n",
      "            \n",
      "        if ($features[2] <= 2.45000004768) {\n",
      "            $classes[0] = 50; \n",
      "            $classes[1] = 0; \n",
      "            $classes[2] = 0; \n",
      "        } else {\n",
      "            if ($features[3] <= 1.75) {\n",
      "                if ($features[2] <= 4.94999980927) {\n",
      "                    if ($features[3] <= 1.65000009537) {\n",
      "                        $classes[0] = 0; \n",
      "                        $classes[1] = 47; \n",
      "                        $classes[2] = 0; \n",
      "                    } else {\n",
      "                        $classes[0] = 0; \n",
      "                        $classes[1] = 0; \n",
      "                        $classes[2] = 1; \n",
      "                    }\n",
      "                } else {\n",
      "                    if ($features[3] <= 1.54999995232) {\n",
      "                        $classes[0] = 0; \n",
      "                        $classes[1] = 0; \n",
      "                        $classes[2] = 3; \n",
      "                    } else {\n",
      "                        if ($features[0] <= 6.94999980927) {\n",
      "                            $classes[0] = 0; \n",
      "                            $classes[1] = 2; \n",
      "                            $classes[2] = 0; \n",
      "                        } else {\n",
      "                            $classes[0] = 0; \n",
      "                            $classes[1] = 0; \n",
      "                            $classes[2] = 1; \n",
      "                        }\n",
      "                    }\n",
      "                }\n",
      "            } else {\n",
      "                if ($features[2] <= 4.85000038147) {\n",
      "                    if ($features[1] <= 3.09999990463) {\n",
      "                        $classes[0] = 0; \n",
      "                        $classes[1] = 0; \n",
      "                        $classes[2] = 2; \n",
      "                    } else {\n",
      "                        $classes[0] = 0; \n",
      "                        $classes[1] = 1; \n",
      "                        $classes[2] = 0; \n",
      "                    }\n",
      "                } else {\n",
      "                    $classes[0] = 0; \n",
      "                    $classes[1] = 0; \n",
      "                    $classes[2] = 43; \n",
      "                }\n",
      "            }\n",
      "        }\n",
      "    \n",
      "        $class_idx = 0;\n",
      "        $class_val = $classes[0];\n",
      "    \n",
      "        for ($i = 1; $i < 3; $i++) {\n",
      "            if ($classes[$i] > $class_val) {\n",
      "                $class_idx = $i;\n",
      "                $class_val = $classes[$i];\n",
      "            }\n",
      "        }\n",
      "        return $class_idx;\n",
      "    }\n",
      "\n",
      "}\n",
      "\n",
      "if ($argc > 1) {\n",
      "    array_shift($argv);\n",
      "    $prediction = DecisionTreeClassifier::predict($argv);\n",
      "    fwrite(STDOUT, $prediction);\n",
      "}\n",
      "\n"
     ]
    }
   ],
   "source": [
    "from sklearn_porter import Porter\n",
    "\n",
    "porter = Porter(clf, language='php')\n",
    "output = porter.export(embedded=True)\n",
    "\n",
    "print(output)"
   ]
  }
 ],
 "metadata": {
  "kernelspec": {
   "display_name": "Python 2",
   "language": "python",
   "name": "python2"
  },
  "language_info": {
   "codemirror_mode": {
    "name": "ipython",
    "version": 2
   },
   "file_extension": ".py",
   "mimetype": "text/x-python",
   "name": "python",
   "nbconvert_exporter": "python",
   "pygments_lexer": "ipython2",
   "version": "2.7.13"
  }
 },
 "nbformat": 4,
 "nbformat_minor": 2
}
