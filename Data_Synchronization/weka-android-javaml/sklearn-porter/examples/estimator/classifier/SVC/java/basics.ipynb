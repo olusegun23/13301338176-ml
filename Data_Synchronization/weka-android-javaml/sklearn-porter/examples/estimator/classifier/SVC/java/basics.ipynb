{
 "cells": [
  {
   "cell_type": "markdown",
   "metadata": {},
   "source": [
    "# sklearn-porter\n",
    "\n",
    "Repository: https://github.com/nok/sklearn-porter\n",
    "\n",
    "## SVC\n",
    "\n",
    "Documentation: [sklearn.svm.SVC](http://scikit-learn.org/stable/modules/generated/sklearn.svm.SVC.html)"
   ]
  },
  {
   "cell_type": "markdown",
   "metadata": {},
   "source": [
    "### Loading data:"
   ]
  },
  {
   "cell_type": "code",
   "execution_count": 1,
   "metadata": {},
   "outputs": [
    {
     "name": "stdout",
     "output_type": "stream",
     "text": [
      "((150, 4), (150,))\n"
     ]
    }
   ],
   "source": [
    "from sklearn.datasets import load_iris\n",
    "\n",
    "iris_data = load_iris()\n",
    "X = iris_data.data\n",
    "y = iris_data.target\n",
    "\n",
    "print(X.shape, y.shape)"
   ]
  },
  {
   "cell_type": "markdown",
   "metadata": {},
   "source": [
    "### Train classifier:"
   ]
  },
  {
   "cell_type": "code",
   "execution_count": 2,
   "metadata": {},
   "outputs": [
    {
     "data": {
      "text/plain": [
       "SVC(C=1.0, cache_size=200, class_weight=None, coef0=0.0,\n",
       "  decision_function_shape='ovr', degree=3, gamma=0.001, kernel='rbf',\n",
       "  max_iter=-1, probability=False, random_state=0, shrinking=True,\n",
       "  tol=0.001, verbose=False)"
      ]
     },
     "execution_count": 2,
     "metadata": {},
     "output_type": "execute_result"
    }
   ],
   "source": [
    "from sklearn import svm\n",
    "\n",
    "clf = svm.SVC(C=1., gamma=0.001, kernel='rbf', random_state=0)\n",
    "clf.fit(X, y)"
   ]
  },
  {
   "cell_type": "markdown",
   "metadata": {},
   "source": [
    "### Transpile classifier:"
   ]
  },
  {
   "cell_type": "code",
   "execution_count": 4,
   "metadata": {
    "scrolled": false
   },
   "outputs": [
    {
     "name": "stdout",
     "output_type": "stream",
     "text": [
      "class SVC {\n",
      "\n",
      "    private enum Kernel { LINEAR, POLY, RBF, SIGMOID }\n",
      "\n",
      "    private int nClasses;\n",
      "    private int nRows;\n",
      "    private int[] classes;\n",
      "    private double[][] vectors;\n",
      "    private double[][] coefficients;\n",
      "    private double[] intercepts;\n",
      "    private int[] weights;\n",
      "    private Kernel kernel;\n",
      "    private double gamma;\n",
      "    private double coef0;\n",
      "    private double degree;\n",
      "\n",
      "    public SVC (int nClasses, int nRows, double[][] vectors, double[][] coefficients, double[] intercepts, int[] weights, String kernel, double gamma, double coef0, double degree) {\n",
      "        this.nClasses = nClasses;\n",
      "        this.classes = new int[nClasses];\n",
      "        for (int i = 0; i < nClasses; i++) {\n",
      "            this.classes[i] = i;\n",
      "        }\n",
      "        this.nRows = nRows;\n",
      "\n",
      "        this.vectors = vectors;\n",
      "        this.coefficients = coefficients;\n",
      "        this.intercepts = intercepts;\n",
      "        this.weights = weights;\n",
      "\n",
      "        this.kernel = Kernel.valueOf(kernel.toUpperCase());\n",
      "        this.gamma = gamma;\n",
      "        this.coef0 = coef0;\n",
      "        this.degree = degree;\n",
      "    }\n",
      "\n",
      "    public int predict(double[] features) {\n",
      "    \n",
      "        double[] kernels = new double[vectors.length];\n",
      "        double kernel;\n",
      "        switch (this.kernel) {\n",
      "            case LINEAR:\n",
      "                // <x,x'>\n",
      "                for (int i = 0; i < this.vectors.length; i++) {\n",
      "                    kernel = 0.;\n",
      "                    for (int j = 0; j < this.vectors[i].length; j++) {\n",
      "                        kernel += this.vectors[i][j] * features[j];\n",
      "                    }\n",
      "                    kernels[i] = kernel;\n",
      "                }\n",
      "                break;\n",
      "            case POLY:\n",
      "                // (y<x,x'>+r)^d\n",
      "                for (int i = 0; i < this.vectors.length; i++) {\n",
      "                    kernel = 0.;\n",
      "                    for (int j = 0; j < this.vectors[i].length; j++) {\n",
      "                        kernel += this.vectors[i][j] * features[j];\n",
      "                    }\n",
      "                    kernels[i] = Math.pow((this.gamma * kernel) + this.coef0, this.degree);\n",
      "                }\n",
      "                break;\n",
      "            case RBF:\n",
      "                // exp(-y|x-x'|^2)\n",
      "                for (int i = 0; i < this.vectors.length; i++) {\n",
      "                    kernel = 0.;\n",
      "                    for (int j = 0; j < this.vectors[i].length; j++) {\n",
      "                        kernel += Math.pow(this.vectors[i][j] - features[j], 2);\n",
      "                    }\n",
      "                    kernels[i] = Math.exp(-this.gamma * kernel);\n",
      "                }\n",
      "                break;\n",
      "            case SIGMOID:\n",
      "                // tanh(y<x,x'>+r)\n",
      "                for (int i = 0; i < this.vectors.length; i++) {\n",
      "                    kernel = 0.;\n",
      "                    for (int j = 0; j < this.vectors[i].length; j++) {\n",
      "                        kernel += this.vectors[i][j] * features[j];\n",
      "                    }\n",
      "                    kernels[i] = Math.tanh((this.gamma * kernel) + this.coef0);\n",
      "                }\n",
      "                break;\n",
      "        }\n",
      "    \n",
      "        int[] starts = new int[this.nRows];\n",
      "        for (int i = 0; i < this.nRows; i++) {\n",
      "            if (i != 0) {\n",
      "                int start = 0;\n",
      "                for (int j = 0; j < i; j++) {\n",
      "                    start += this.weights[j];\n",
      "                }\n",
      "                starts[i] = start;\n",
      "            } else {\n",
      "                starts[0] = 0;\n",
      "            }\n",
      "        }\n",
      "    \n",
      "        int[] ends = new int[this.nRows];\n",
      "        for (int i = 0; i < this.nRows; i++) {\n",
      "            ends[i] = this.weights[i] + starts[i];\n",
      "        }\n",
      "    \n",
      "        if (this.nClasses == 2) {\n",
      "    \n",
      "            for (int i = 0; i < kernels.length; i++) {\n",
      "                kernels[i] = -kernels[i];\n",
      "            }\n",
      "    \n",
      "            double decision = 0.;\n",
      "            for (int k = starts[1]; k < ends[1]; k++) {\n",
      "                decision += kernels[k] * this.coefficients[0][k];\n",
      "            }\n",
      "            for (int k = starts[0]; k < ends[0]; k++) {\n",
      "                decision += kernels[k] * this.coefficients[0][k];\n",
      "            }\n",
      "            decision += this.intercepts[0];\n",
      "    \n",
      "            if (decision > 0) {\n",
      "                return 0;\n",
      "            }\n",
      "            return 1;\n",
      "    \n",
      "        }\n",
      "    \n",
      "        double[] decisions = new double[this.intercepts.length];\n",
      "        for (int i = 0, d = 0, l = this.nRows; i < l; i++) {\n",
      "            for (int j = i + 1; j < l; j++) {\n",
      "                double tmp = 0.;\n",
      "                for (int k = starts[j]; k < ends[j]; k++) {\n",
      "                    tmp += this.coefficients[i][k] * kernels[k];\n",
      "                }\n",
      "                for (int k = starts[i]; k < ends[i]; k++) {\n",
      "                    tmp += this.coefficients[j - 1][k] * kernels[k];\n",
      "                }\n",
      "                decisions[d] = tmp + this.intercepts[d];\n",
      "                d++;\n",
      "            }\n",
      "        }\n",
      "    \n",
      "        int[] votes = new int[this.intercepts.length];\n",
      "        for (int i = 0, d = 0, l = this.nRows; i < l; i++) {\n",
      "            for (int j = i + 1; j < l; j++) {\n",
      "                votes[d] = decisions[d] > 0 ? i : j;\n",
      "                d++;\n",
      "            }\n",
      "        }\n",
      "    \n",
      "        int[] amounts = new int[this.nClasses];\n",
      "        for (int i = 0, l = votes.length; i < l; i++) {\n",
      "            amounts[votes[i]] += 1;\n",
      "        }\n",
      "    \n",
      "        int classVal = -1, classIdx = -1;\n",
      "        for (int i = 0, l = amounts.length; i < l; i++) {\n",
      "            if (amounts[i] > classVal) {\n",
      "                classVal = amounts[i];\n",
      "                classIdx= i;\n",
      "            }\n",
      "        }\n",
      "        return this.classes[classIdx];\n",
      "    \n",
      "    }\n",
      "\n",
      "    public static void main(String[] args) {\n",
      "        if (args.length == 4) {\n",
      "\n",
      "            // Features:\n",
      "            double[] features = new double[args.length];\n",
      "            for (int i = 0, l = args.length; i < l; i++) {\n",
      "                features[i] = Double.parseDouble(args[i]);\n",
      "            }\n",
      "\n",
      "            // Parameters:\n",
      "            double[][] vectors = {{5.1, 3.5, 1.4, 0.2}, {4.9, 3.0, 1.4, 0.2}, {4.7, 3.2, 1.3, 0.2}, {4.6, 3.1, 1.5, 0.2}, {5.0, 3.6, 1.4, 0.2}, {5.4, 3.9, 1.7, 0.4}, {4.6, 3.4, 1.4, 0.3}, {5.0, 3.4, 1.5, 0.2}, {4.4, 2.9, 1.4, 0.2}, {4.9, 3.1, 1.5, 0.1}, {5.4, 3.7, 1.5, 0.2}, {4.8, 3.4, 1.6, 0.2}, {4.8, 3.0, 1.4, 0.1}, {4.3, 3.0, 1.1, 0.1}, {5.8, 4.0, 1.2, 0.2}, {5.7, 4.4, 1.5, 0.4}, {5.4, 3.9, 1.3, 0.4}, {5.1, 3.5, 1.4, 0.3}, {5.7, 3.8, 1.7, 0.3}, {5.1, 3.8, 1.5, 0.3}, {5.4, 3.4, 1.7, 0.2}, {5.1, 3.7, 1.5, 0.4}, {4.6, 3.6, 1.0, 0.2}, {5.1, 3.3, 1.7, 0.5}, {4.8, 3.4, 1.9, 0.2}, {5.0, 3.0, 1.6, 0.2}, {5.0, 3.4, 1.6, 0.4}, {5.2, 3.5, 1.5, 0.2}, {5.2, 3.4, 1.4, 0.2}, {4.7, 3.2, 1.6, 0.2}, {4.8, 3.1, 1.6, 0.2}, {5.4, 3.4, 1.5, 0.4}, {5.2, 4.1, 1.5, 0.1}, {5.5, 4.2, 1.4, 0.2}, {4.9, 3.1, 1.5, 0.1}, {5.0, 3.2, 1.2, 0.2}, {5.5, 3.5, 1.3, 0.2}, {4.9, 3.1, 1.5, 0.1}, {4.4, 3.0, 1.3, 0.2}, {5.1, 3.4, 1.5, 0.2}, {5.0, 3.5, 1.3, 0.3}, {4.5, 2.3, 1.3, 0.3}, {4.4, 3.2, 1.3, 0.2}, {5.0, 3.5, 1.6, 0.6}, {5.1, 3.8, 1.9, 0.4}, {4.8, 3.0, 1.4, 0.3}, {5.1, 3.8, 1.6, 0.2}, {4.6, 3.2, 1.4, 0.2}, {5.3, 3.7, 1.5, 0.2}, {5.0, 3.3, 1.4, 0.2}, {7.0, 3.2, 4.7, 1.4}, {6.4, 3.2, 4.5, 1.5}, {6.9, 3.1, 4.9, 1.5}, {5.5, 2.3, 4.0, 1.3}, {6.5, 2.8, 4.6, 1.5}, {5.7, 2.8, 4.5, 1.3}, {6.3, 3.3, 4.7, 1.6}, {4.9, 2.4, 3.3, 1.0}, {6.6, 2.9, 4.6, 1.3}, {5.2, 2.7, 3.9, 1.4}, {5.0, 2.0, 3.5, 1.0}, {5.9, 3.0, 4.2, 1.5}, {6.0, 2.2, 4.0, 1.0}, {6.1, 2.9, 4.7, 1.4}, {5.6, 2.9, 3.6, 1.3}, {6.7, 3.1, 4.4, 1.4}, {5.6, 3.0, 4.5, 1.5}, {5.8, 2.7, 4.1, 1.0}, {6.2, 2.2, 4.5, 1.5}, {5.6, 2.5, 3.9, 1.1}, {5.9, 3.2, 4.8, 1.8}, {6.1, 2.8, 4.0, 1.3}, {6.3, 2.5, 4.9, 1.5}, {6.1, 2.8, 4.7, 1.2}, {6.4, 2.9, 4.3, 1.3}, {6.6, 3.0, 4.4, 1.4}, {6.8, 2.8, 4.8, 1.4}, {6.7, 3.0, 5.0, 1.7}, {6.0, 2.9, 4.5, 1.5}, {5.7, 2.6, 3.5, 1.0}, {5.5, 2.4, 3.8, 1.1}, {5.5, 2.4, 3.7, 1.0}, {5.8, 2.7, 3.9, 1.2}, {6.0, 2.7, 5.1, 1.6}, {5.4, 3.0, 4.5, 1.5}, {6.0, 3.4, 4.5, 1.6}, {6.7, 3.1, 4.7, 1.5}, {6.3, 2.3, 4.4, 1.3}, {5.6, 3.0, 4.1, 1.3}, {5.5, 2.5, 4.0, 1.3}, {5.5, 2.6, 4.4, 1.2}, {6.1, 3.0, 4.6, 1.4}, {5.8, 2.6, 4.0, 1.2}, {5.0, 2.3, 3.3, 1.0}, {5.6, 2.7, 4.2, 1.3}, {5.7, 3.0, 4.2, 1.2}, {5.7, 2.9, 4.2, 1.3}, {6.2, 2.9, 4.3, 1.3}, {5.1, 2.5, 3.0, 1.1}, {5.7, 2.8, 4.1, 1.3}, {6.3, 3.3, 6.0, 2.5}, {5.8, 2.7, 5.1, 1.9}, {7.1, 3.0, 5.9, 2.1}, {6.3, 2.9, 5.6, 1.8}, {6.5, 3.0, 5.8, 2.2}, {7.6, 3.0, 6.6, 2.1}, {4.9, 2.5, 4.5, 1.7}, {7.3, 2.9, 6.3, 1.8}, {6.7, 2.5, 5.8, 1.8}, {7.2, 3.6, 6.1, 2.5}, {6.5, 3.2, 5.1, 2.0}, {6.4, 2.7, 5.3, 1.9}, {6.8, 3.0, 5.5, 2.1}, {5.7, 2.5, 5.0, 2.0}, {5.8, 2.8, 5.1, 2.4}, {6.4, 3.2, 5.3, 2.3}, {6.5, 3.0, 5.5, 1.8}, {7.7, 3.8, 6.7, 2.2}, {7.7, 2.6, 6.9, 2.3}, {6.0, 2.2, 5.0, 1.5}, {6.9, 3.2, 5.7, 2.3}, {5.6, 2.8, 4.9, 2.0}, {7.7, 2.8, 6.7, 2.0}, {6.3, 2.7, 4.9, 1.8}, {6.7, 3.3, 5.7, 2.1}, {7.2, 3.2, 6.0, 1.8}, {6.2, 2.8, 4.8, 1.8}, {6.1, 3.0, 4.9, 1.8}, {6.4, 2.8, 5.6, 2.1}, {7.2, 3.0, 5.8, 1.6}, {7.4, 2.8, 6.1, 1.9}, {7.9, 3.8, 6.4, 2.0}, {6.4, 2.8, 5.6, 2.2}, {6.3, 2.8, 5.1, 1.5}, {6.1, 2.6, 5.6, 1.4}, {7.7, 3.0, 6.1, 2.3}, {6.3, 3.4, 5.6, 2.4}, {6.4, 3.1, 5.5, 1.8}, {6.0, 3.0, 4.8, 1.8}, {6.9, 3.1, 5.4, 2.1}, {6.7, 3.1, 5.6, 2.4}, {6.9, 3.1, 5.1, 2.3}, {5.8, 2.7, 5.1, 1.9}, {6.8, 3.2, 5.9, 2.3}, {6.7, 3.3, 5.7, 2.5}, {6.7, 3.0, 5.2, 2.3}, {6.3, 2.5, 5.0, 1.9}, {6.5, 3.0, 5.2, 2.0}, {6.2, 3.4, 5.4, 2.3}, {5.9, 3.0, 5.1, 1.8}};\n",
      "            double[][] coefficients = {{1.0, 1.0, 1.0, 1.0, 1.0, 1.0, 1.0, 1.0, 1.0, 1.0, 1.0, 1.0, 1.0, 1.0, 1.0, 1.0, 1.0, 1.0, 1.0, 1.0, 1.0, 1.0, 1.0, 1.0, 1.0, 1.0, 1.0, 1.0, 1.0, 1.0, 1.0, 1.0, 1.0, 1.0, 1.0, 1.0, 1.0, 1.0, 1.0, 1.0, 1.0, 1.0, 1.0, 1.0, 1.0, 1.0, 1.0, 1.0, 1.0, 1.0, -1.0, -1.0, -1.0, -1.0, -1.0, -1.0, -1.0, -1.0, -1.0, -1.0, -1.0, -1.0, -1.0, -1.0, -1.0, -1.0, -1.0, -1.0, -1.0, -1.0, -1.0, -1.0, -1.0, -1.0, -1.0, -1.0, -1.0, -1.0, -1.0, -1.0, -1.0, -1.0, -1.0, -1.0, -1.0, -1.0, -1.0, -1.0, -1.0, -1.0, -1.0, -1.0, -1.0, -1.0, -1.0, -1.0, -1.0, -1.0, -1.0, -1.0, -1.0, -1.0, -1.0, -1.0, -1.0, -0.0, -1.0, -0.0, -1.0, -0.0, -1.0, -1.0, -1.0, -1.0, -1.0, -1.0, -1.0, -0.0, -0.0, -1.0, -1.0, -1.0, -0.0, -1.0, -1.0, -1.0, -1.0, -1.0, -1.0, -1.0, -0.0, -0.0, -1.0, -1.0, -1.0, -0.0, -1.0, -1.0, -1.0, -1.0, -1.0, -1.0, -1.0, -1.0, -1.0, -1.0, -1.0, -1.0, -1.0, -1.0}, {1.0, 1.0, 0.0, 1.0, 1.0, 1.0, 0.0, 1.0, 0.0, 1.0, 1.0, 1.0, 1.0, 0.0, 1.0, 1.0, 1.0, 1.0, 1.0, 1.0, 1.0, 1.0, 0.0, 1.0, 1.0, 1.0, 1.0, 1.0, 1.0, 1.0, 1.0, 1.0, 1.0, 1.0, 1.0, 0.0, 1.0, 1.0, 0.0, 1.0, 1.0, 1.0, 0.0, 1.0, 1.0, 1.0, 1.0, 0.0, 1.0, 1.0, 1.0, 1.0, 1.0, 1.0, 1.0, 1.0, 1.0, 1.0, 1.0, 1.0, 1.0, 1.0, 1.0, 1.0, 1.0, 1.0, 1.0, 1.0, 1.0, 1.0, 1.0, 1.0, 1.0, 1.0, 1.0, 1.0, 1.0, 1.0, 1.0, 1.0, 1.0, 1.0, 1.0, 1.0, 1.0, 1.0, 1.0, 1.0, 1.0, 1.0, 1.0, 1.0, 1.0, 1.0, 1.0, 1.0, 1.0, 1.0, 1.0, 1.0, -1.0, -1.0, -1.0, -1.0, -1.0, -1.0, -1.0, -1.0, -1.0, -1.0, -1.0, -1.0, -1.0, -1.0, -1.0, -1.0, -1.0, -1.0, -1.0, -1.0, -1.0, -1.0, -1.0, -1.0, -1.0, -1.0, -1.0, -1.0, -1.0, -1.0, -1.0, -1.0, -1.0, -1.0, -1.0, -1.0, -1.0, -1.0, -1.0, -1.0, -1.0, -1.0, -1.0, -1.0, -1.0, -1.0, -1.0, -1.0, -1.0, -1.0}};\n",
      "            double[] intercepts = {0.0433769226074, 0.114452451468, -0.00317096710205};\n",
      "            int[] weights = {50, 50, 50};\n",
      "\n",
      "            // Prediction:\n",
      "            SVC clf = new SVC(3, 3, vectors, coefficients, intercepts, weights, \"rbf\", 0.001, 0.0, 3);\n",
      "            int estimation = clf.predict(features);\n",
      "            System.out.println(estimation);\n",
      "\n",
      "        }\n",
      "    }\n",
      "}\n",
      "CPU times: user 5 ms, sys: 2.12 ms, total: 7.12 ms\n",
      "Wall time: 5.4 ms\n"
     ]
    }
   ],
   "source": [
    "%%time\n",
    "\n",
    "from sklearn_porter import Porter\n",
    "\n",
    "porter = Porter(clf)\n",
    "output = porter.export()\n",
    "\n",
    "print(output)"
   ]
  },
  {
   "cell_type": "markdown",
   "metadata": {},
   "source": [
    "### Run classification in Java:"
   ]
  },
  {
   "cell_type": "markdown",
   "metadata": {},
   "source": [
    "Save the transpiled estimator:"
   ]
  },
  {
   "cell_type": "code",
   "execution_count": 5,
   "metadata": {
    "collapsed": true
   },
   "outputs": [],
   "source": [
    "with open('SVC.java', 'w') as f:\n",
    "    f.write(output)"
   ]
  },
  {
   "cell_type": "markdown",
   "metadata": {},
   "source": [
    "Compiling:"
   ]
  },
  {
   "cell_type": "code",
   "execution_count": 6,
   "metadata": {
    "collapsed": true
   },
   "outputs": [],
   "source": [
    "%%bash\n",
    "\n",
    "javac -cp . SVC.java"
   ]
  },
  {
   "cell_type": "markdown",
   "metadata": {},
   "source": [
    "Prediction:"
   ]
  },
  {
   "cell_type": "code",
   "execution_count": 7,
   "metadata": {},
   "outputs": [
    {
     "name": "stdout",
     "output_type": "stream",
     "text": [
      "0\n"
     ]
    }
   ],
   "source": [
    "%%bash\n",
    "\n",
    "java -cp . SVC 1 2 3 4"
   ]
  }
 ],
 "metadata": {
  "kernelspec": {
   "display_name": "Python 2",
   "language": "python",
   "name": "python2"
  },
  "language_info": {
   "codemirror_mode": {
    "name": "ipython",
    "version": 2
   },
   "file_extension": ".py",
   "mimetype": "text/x-python",
   "name": "python",
   "nbconvert_exporter": "python",
   "pygments_lexer": "ipython2",
   "version": "2.7.13"
  }
 },
 "nbformat": 4,
 "nbformat_minor": 2
}
