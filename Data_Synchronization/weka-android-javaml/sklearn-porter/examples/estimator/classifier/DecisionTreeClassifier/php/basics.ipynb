{
 "cells": [
  {
   "cell_type": "markdown",
   "metadata": {},
   "source": [
    "# sklearn-porter\n",
    "\n",
    "Repository: https://github.com/nok/sklearn-porter\n",
    "\n",
    "## DecisionTreeClassifier\n",
    "\n",
    "Documentation: [sklearn.tree.DecisionTreeClassifier](http://scikit-learn.org/stable/modules/generated/sklearn.tree.DecisionTreeClassifier.html)"
   ]
  },
  {
   "cell_type": "markdown",
   "metadata": {},
   "source": [
    "### Loading data:"
   ]
  },
  {
   "cell_type": "code",
   "execution_count": 1,
   "metadata": {},
   "outputs": [
    {
     "name": "stdout",
     "output_type": "stream",
     "text": [
      "((150, 4), (150,))\n"
     ]
    }
   ],
   "source": [
    "from sklearn.datasets import load_iris\n",
    "\n",
    "iris_data = load_iris()\n",
    "X = iris_data.data\n",
    "y = iris_data.target\n",
    "\n",
    "print(X.shape, y.shape)"
   ]
  },
  {
   "cell_type": "markdown",
   "metadata": {},
   "source": [
    "### Train classifier:"
   ]
  },
  {
   "cell_type": "code",
   "execution_count": 2,
   "metadata": {},
   "outputs": [
    {
     "data": {
      "text/plain": [
       "DecisionTreeClassifier(class_weight=None, criterion='gini', max_depth=None,\n",
       "            max_features=None, max_leaf_nodes=None,\n",
       "            min_impurity_decrease=0.0, min_impurity_split=None,\n",
       "            min_samples_leaf=1, min_samples_split=2,\n",
       "            min_weight_fraction_leaf=0.0, presort=False, random_state=None,\n",
       "            splitter='best')"
      ]
     },
     "execution_count": 2,
     "metadata": {},
     "output_type": "execute_result"
    }
   ],
   "source": [
    "from sklearn.tree import tree\n",
    "\n",
    "clf = tree.DecisionTreeClassifier()\n",
    "clf.fit(X, y)"
   ]
  },
  {
   "cell_type": "markdown",
   "metadata": {},
   "source": [
    "### Transpile classifier:"
   ]
  },
  {
   "cell_type": "code",
   "execution_count": 3,
   "metadata": {
    "scrolled": false
   },
   "outputs": [
    {
     "name": "stdout",
     "output_type": "stream",
     "text": [
      "<?php\n",
      "\n",
      "class DecisionTreeClassifier {\n",
      "\n",
      "    public function __construct($lChilds, $rChilds, $thresholds, $indices, $classes) {\n",
      "        $this->lChilds = $lChilds;\n",
      "        $this->rChilds = $rChilds;\n",
      "        $this->thresholds = $thresholds;\n",
      "        $this->indices = $indices;\n",
      "        $this->classes = $classes;\n",
      "    }\n",
      "\n",
      "    private function findMax($nums) {\n",
      "        $index = 0;\n",
      "        for ($i = 0; $i < count($nums); $i++) {\n",
      "            $index = $nums[$i] > $nums[$index] ? $i : $index;\n",
      "        }\n",
      "        return $index;\n",
      "    }\n",
      "\n",
      "    public function predict($features) {\n",
      "        $node = (func_num_args() > 1) ? func_get_arg(1) : 0;\n",
      "        if ($this->thresholds[$node] != -2) {\n",
      "            if ($features[$this->indices[$node]] <= $this->thresholds[$node]) {\n",
      "                return $this->predict($features, $this->lChilds[$node]);\n",
      "            } else {\n",
      "                return $this->predict($features, $this->rChilds[$node]);\n",
      "            }\n",
      "        }\n",
      "        return $this->findMax($this->classes[$node]);\n",
      "    }\n",
      "\n",
      "}\n",
      "\n",
      "if ($argc > 1) {\n",
      "\n",
      "    // Features:\n",
      "    array_shift($argv);\n",
      "    $features = $argv;\n",
      "\n",
      "    // Parameters:\n",
      "    $lChilds = [1, -1, 3, 4, 5, -1, -1, 8, -1, 10, -1, -1, 13, 14, -1, -1, -1];\n",
      "    $rChilds = [2, -1, 12, 7, 6, -1, -1, 9, -1, 11, -1, -1, 16, 15, -1, -1, -1];\n",
      "    $thresholds = [2.45000004768, -2.0, 1.75, 4.94999980927, 1.65000009537, -2.0, -2.0, 1.54999995232, -2.0, 5.44999980927, -2.0, -2.0, 4.85000038147, 3.09999990463, -2.0, -2.0, -2.0];\n",
      "    $indices = [2, 2, 3, 2, 3, 2, 2, 3, 2, 2, 2, 2, 2, 1, 2, 2, 2];\n",
      "    $classes = [[50, 50, 50], [50, 0, 0], [0, 50, 50], [0, 49, 5], [0, 47, 1], [0, 47, 0], [0, 0, 1], [0, 2, 4], [0, 0, 3], [0, 2, 1], [0, 2, 0], [0, 0, 1], [0, 1, 45], [0, 1, 2], [0, 0, 2], [0, 1, 0], [0, 0, 43]];\n",
      "\n",
      "    // Prediction:\n",
      "    $clf = new DecisionTreeClassifier($lChilds, $rChilds, $thresholds, $indices, $classes);\n",
      "    $prediction = $clf->predict($features);\n",
      "    fwrite(STDOUT, $prediction);\n",
      "\n",
      "}\n"
     ]
    }
   ],
   "source": [
    "from sklearn_porter import Porter\n",
    "\n",
    "porter = Porter(clf, language='php')\n",
    "output = porter.export()\n",
    "\n",
    "print(output)"
   ]
  }
 ],
 "metadata": {
  "kernelspec": {
   "display_name": "Python 2",
   "language": "python",
   "name": "python2"
  },
  "language_info": {
   "codemirror_mode": {
    "name": "ipython",
    "version": 2
   },
   "file_extension": ".py",
   "mimetype": "text/x-python",
   "name": "python",
   "nbconvert_exporter": "python",
   "pygments_lexer": "ipython2",
   "version": "2.7.13"
  }
 },
 "nbformat": 4,
 "nbformat_minor": 2
}
