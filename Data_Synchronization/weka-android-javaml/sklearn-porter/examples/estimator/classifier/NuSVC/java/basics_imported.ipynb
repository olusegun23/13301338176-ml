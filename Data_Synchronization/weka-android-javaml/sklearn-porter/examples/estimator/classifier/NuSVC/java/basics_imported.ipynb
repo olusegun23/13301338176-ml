{
 "cells": [
  {
   "cell_type": "markdown",
   "metadata": {},
   "source": [
    "# sklearn-porter\n",
    "\n",
    "Repository: https://github.com/nok/sklearn-porter\n",
    "\n",
    "## NuSVC\n",
    "\n",
    "Documentation: [sklearn.svm.NuSVC](http://scikit-learn.org/stable/modules/generated/sklearn.svm.NuSVC.html)"
   ]
  },
  {
   "cell_type": "markdown",
   "metadata": {},
   "source": [
    "### Loading data:"
   ]
  },
  {
   "cell_type": "code",
   "execution_count": 1,
   "metadata": {},
   "outputs": [
    {
     "name": "stdout",
     "output_type": "stream",
     "text": [
      "((150, 4), (150,))\n"
     ]
    }
   ],
   "source": [
    "from sklearn.datasets import load_iris\n",
    "\n",
    "iris_data = load_iris()\n",
    "X = iris_data.data\n",
    "y = iris_data.target\n",
    "\n",
    "print(X.shape, y.shape)"
   ]
  },
  {
   "cell_type": "markdown",
   "metadata": {},
   "source": [
    "### Train classifier:"
   ]
  },
  {
   "cell_type": "code",
   "execution_count": 2,
   "metadata": {},
   "outputs": [
    {
     "data": {
      "text/plain": [
       "NuSVC(cache_size=200, class_weight=None, coef0=0.0,\n",
       "   decision_function_shape='ovr', degree=3, gamma=0.001, kernel='rbf',\n",
       "   max_iter=-1, nu=0.5, probability=False, random_state=0, shrinking=True,\n",
       "   tol=0.001, verbose=False)"
      ]
     },
     "execution_count": 2,
     "metadata": {},
     "output_type": "execute_result"
    }
   ],
   "source": [
    "from sklearn import svm\n",
    "\n",
    "clf = svm.NuSVC(gamma=0.001, kernel='rbf', random_state=0)\n",
    "clf.fit(X, y)"
   ]
  },
  {
   "cell_type": "markdown",
   "metadata": {},
   "source": [
    "### Transpile classifier:"
   ]
  },
  {
   "cell_type": "code",
   "execution_count": 4,
   "metadata": {
    "scrolled": false
   },
   "outputs": [
    {
     "name": "stdout",
     "output_type": "stream",
     "text": [
      "import java.io.File;\n",
      "import java.io.FileNotFoundException;\n",
      "import java.io.IOException;\n",
      "import java.util.Scanner;\n",
      "import com.google.gson.Gson;\n",
      "\n",
      "\n",
      "class NuSVC {\n",
      "\n",
      "    private enum Kernel { LINEAR, POLY, RBF, SIGMOID }\n",
      "    private class Classifier {\n",
      "        private int nClasses;\n",
      "        private int nRows;\n",
      "        private int[] classes;\n",
      "        private double[][] vectors;\n",
      "        private double[][] coefficients;\n",
      "        private double[] intercepts;\n",
      "        private int[] weights;\n",
      "        private String kernel;\n",
      "        private Kernel kkernel;\n",
      "        private double gamma;\n",
      "        private double coef0;\n",
      "        private double degree;\n",
      "    }\n",
      "\n",
      "    private Classifier clf;\n",
      "\n",
      "    public NuSVC(String file) throws FileNotFoundException {\n",
      "        String jsonStr = new Scanner(new File(file)).useDelimiter(\"\\\\Z\").next();\n",
      "        this.clf = new Gson().fromJson(jsonStr, Classifier.class);\n",
      "        this.clf.classes = new int[this.clf.nClasses];\n",
      "        for (int i = 0; i < this.clf.nClasses; i++) {\n",
      "            this.clf.classes[i] = i;\n",
      "        }\n",
      "        this.clf.kkernel = Kernel.valueOf(this.clf.kernel.toUpperCase());\n",
      "    }\n",
      "\n",
      "    public int predict(double[] features) {\n",
      "        double[] kernels = new double[this.clf.vectors.length];\n",
      "        double kernel;\n",
      "        switch (this.clf.kkernel) {\n",
      "            case LINEAR:\n",
      "                // <x,x'>\n",
      "                for (int i = 0; i < this.clf.vectors.length; i++) {\n",
      "                    kernel = 0.;\n",
      "                    for (int j = 0; j < this.clf.vectors[i].length; j++) {\n",
      "                        kernel += this.clf.vectors[i][j] * features[j];\n",
      "                    }\n",
      "                    kernels[i] = kernel;\n",
      "                }\n",
      "                break;\n",
      "            case POLY:\n",
      "                // (y<x,x'>+r)^d\n",
      "                for (int i = 0; i < this.clf.vectors.length; i++) {\n",
      "                    kernel = 0.;\n",
      "                    for (int j = 0; j < this.clf.vectors[i].length; j++) {\n",
      "                        kernel += this.clf.vectors[i][j] * features[j];\n",
      "                    }\n",
      "                    kernels[i] = Math.pow((this.clf.gamma * kernel) + this.clf.coef0, this.clf.degree);\n",
      "                }\n",
      "                break;\n",
      "            case RBF:\n",
      "                // exp(-y|x-x'|^2)\n",
      "                for (int i = 0; i < this.clf.vectors.length; i++) {\n",
      "                    kernel = 0.;\n",
      "                    for (int j = 0; j < this.clf.vectors[i].length; j++) {\n",
      "                        kernel += Math.pow(this.clf.vectors[i][j] - features[j], 2);\n",
      "                    }\n",
      "                    kernels[i] = Math.exp(-this.clf.gamma * kernel);\n",
      "                }\n",
      "                break;\n",
      "            case SIGMOID:\n",
      "                // tanh(y<x,x'>+r)\n",
      "                for (int i = 0; i < this.clf.vectors.length; i++) {\n",
      "                    kernel = 0.;\n",
      "                    for (int j = 0; j < this.clf.vectors[i].length; j++) {\n",
      "                        kernel += this.clf.vectors[i][j] * features[j];\n",
      "                    }\n",
      "                    kernels[i] = Math.tanh((this.clf.gamma * kernel) + this.clf.coef0);\n",
      "                }\n",
      "                break;\n",
      "        }\n",
      "\n",
      "        int[] starts = new int[this.clf.nRows];\n",
      "        for (int i = 0; i < this.clf.nRows; i++) {\n",
      "            if (i != 0) {\n",
      "                int start = 0;\n",
      "                for (int j = 0; j < i; j++) {\n",
      "                    start += this.clf.weights[j];\n",
      "                }\n",
      "                starts[i] = start;\n",
      "            } else {\n",
      "                starts[0] = 0;\n",
      "            }\n",
      "        }\n",
      "\n",
      "        int[] ends = new int[this.clf.nRows];\n",
      "        for (int i = 0; i < this.clf.nRows; i++) {\n",
      "            ends[i] = this.clf.weights[i] + starts[i];\n",
      "        }\n",
      "\n",
      "        if (this.clf.nClasses == 2) {\n",
      "            for (int i = 0; i < kernels.length; i++) {\n",
      "                kernels[i] = -kernels[i];\n",
      "            }\n",
      "            double decision = 0.;\n",
      "            for (int k = starts[1]; k < ends[1]; k++) {\n",
      "                decision += kernels[k] * this.clf.coefficients[0][k];\n",
      "            }\n",
      "            for (int k = starts[0]; k < ends[0]; k++) {\n",
      "                decision += kernels[k] * this.clf.coefficients[0][k];\n",
      "            }\n",
      "            decision += this.clf.intercepts[0];\n",
      "            if (decision > 0) {\n",
      "                return 0;\n",
      "            }\n",
      "            return 1;\n",
      "        }\n",
      "\n",
      "        double[] decisions = new double[this.clf.intercepts.length];\n",
      "        for (int i = 0, d = 0, l = this.clf.nRows; i < l; i++) {\n",
      "            for (int j = i + 1; j < l; j++) {\n",
      "                double tmp = 0.;\n",
      "                for (int k = starts[j]; k < ends[j]; k++) {\n",
      "                    tmp += this.clf.coefficients[i][k] * kernels[k];\n",
      "                }\n",
      "                for (int k = starts[i]; k < ends[i]; k++) {\n",
      "                    tmp += this.clf.coefficients[j - 1][k] * kernels[k];\n",
      "                }\n",
      "                decisions[d] = tmp + this.clf.intercepts[d];\n",
      "                d++;\n",
      "            }\n",
      "        }\n",
      "\n",
      "        int[] votes = new int[this.clf.intercepts.length];\n",
      "        for (int i = 0, d = 0, l = this.clf.nRows; i < l; i++) {\n",
      "            for (int j = i + 1; j < l; j++) {\n",
      "                votes[d] = decisions[d] > 0 ? i : j;\n",
      "                d++;\n",
      "            }\n",
      "        }\n",
      "\n",
      "        int[] amounts = new int[this.clf.nClasses];\n",
      "        for (int i = 0, l = votes.length; i < l; i++) {\n",
      "            amounts[votes[i]] += 1;\n",
      "        }\n",
      "\n",
      "        int classVal = -1, classIdx = -1;\n",
      "        for (int i = 0, l = amounts.length; i < l; i++) {\n",
      "            if (amounts[i] > classVal) {\n",
      "                classVal = amounts[i];\n",
      "                classIdx = i;\n",
      "            }\n",
      "        }\n",
      "        return this.clf.classes[classIdx];\n",
      "    }\n",
      "\n",
      "    public static void main(String[] args) throws FileNotFoundException {\n",
      "        if (args.length > 0 && args[0].endsWith(\".json\")) {\n",
      "\n",
      "            // Features:\n",
      "            double[] features = new double[args.length-1];\n",
      "            for (int i = 1, l = args.length; i < l; i++) {\n",
      "                features[i - 1] = Double.parseDouble(args[i]);\n",
      "            }\n",
      "\n",
      "            // Parameters:\n",
      "            String modelData = args[0];\n",
      "\n",
      "            // Estimators:\n",
      "            NuSVC clf = new NuSVC(modelData);\n",
      "\n",
      "            // Prediction:\n",
      "            int prediction = clf.predict(features);\n",
      "            System.out.println(prediction);\n",
      "\n",
      "        }\n",
      "    }\n",
      "}\n",
      "CPU times: user 6.55 ms, sys: 2.89 ms, total: 9.43 ms\n",
      "Wall time: 7.09 ms\n"
     ]
    }
   ],
   "source": [
    "%%time\n",
    "\n",
    "from sklearn_porter import Porter\n",
    "\n",
    "porter = Porter(clf)\n",
    "output = porter.export(export_data=True)\n",
    "\n",
    "print(output)"
   ]
  },
  {
   "cell_type": "markdown",
   "metadata": {},
   "source": [
    "Parameters:"
   ]
  },
  {
   "cell_type": "code",
   "execution_count": 5,
   "metadata": {},
   "outputs": [
    {
     "name": "stdout",
     "output_type": "stream",
     "text": [
      "{\"nRows\": 3, \"kernel\": \"rbf\", \"nClasses\": 3, \"weights\": [29, 49, 27], \"gamma\": 0.001, \"degree\": 3.0, \"intercepts\": [0.100618401918, 0.0517481601563, -0.084181689668], \"vectors\": [[4.9, 3.0, 1.4, 0.2], [4.6, 3.1, 1.5, 0.2], [5.4, 3.9, 1.7, 0.4], [5.0, 3.4, 1.5, 0.2], [4.9, 3.1, 1.5, 0.1], [5.4, 3.7, 1.5, 0.2], [4.8, 3.4, 1.6, 0.2], [5.7, 4.4, 1.5, 0.4], [5.7, 3.8, 1.7, 0.3], [5.1, 3.8, 1.5, 0.3], [5.4, 3.4, 1.7, 0.2], [5.1, 3.7, 1.5, 0.4], [5.1, 3.3, 1.7, 0.5], [4.8, 3.4, 1.9, 0.2], [5.0, 3.0, 1.6, 0.2], [5.0, 3.4, 1.6, 0.4], [5.2, 3.5, 1.5, 0.2], [4.7, 3.2, 1.6, 0.2], [4.8, 3.1, 1.6, 0.2], [5.4, 3.4, 1.5, 0.4], [4.9, 3.1, 1.5, 0.1], [4.9, 3.1, 1.5, 0.1], [5.1, 3.4, 1.5, 0.2], [4.5, 2.3, 1.3, 0.3], [5.0, 3.5, 1.6, 0.6], [5.1, 3.8, 1.9, 0.4], [4.8, 3.0, 1.4, 0.3], [5.1, 3.8, 1.6, 0.2], [5.3, 3.7, 1.5, 0.2], [7.0, 3.2, 4.7, 1.4], [6.4, 3.2, 4.5, 1.5], [6.9, 3.1, 4.9, 1.5], [5.5, 2.3, 4.0, 1.3], [6.5, 2.8, 4.6, 1.5], [5.7, 2.8, 4.5, 1.3], [6.3, 3.3, 4.7, 1.6], [4.9, 2.4, 3.3, 1.0], [6.6, 2.9, 4.6, 1.3], [5.2, 2.7, 3.9, 1.4], [5.0, 2.0, 3.5, 1.0], [5.9, 3.0, 4.2, 1.5], [6.0, 2.2, 4.0, 1.0], [6.1, 2.9, 4.7, 1.4], [5.6, 2.9, 3.6, 1.3], [6.7, 3.1, 4.4, 1.4], [5.6, 3.0, 4.5, 1.5], [5.8, 2.7, 4.1, 1.0], [6.2, 2.2, 4.5, 1.5], [5.6, 2.5, 3.9, 1.1], [5.9, 3.2, 4.8, 1.8], [6.1, 2.8, 4.0, 1.3], [6.3, 2.5, 4.9, 1.5], [6.1, 2.8, 4.7, 1.2], [6.6, 3.0, 4.4, 1.4], [6.8, 2.8, 4.8, 1.4], [6.7, 3.0, 5.0, 1.7], [6.0, 2.9, 4.5, 1.5], [5.7, 2.6, 3.5, 1.0], [5.5, 2.4, 3.8, 1.1], [5.5, 2.4, 3.7, 1.0], [5.8, 2.7, 3.9, 1.2], [6.0, 2.7, 5.1, 1.6], [5.4, 3.0, 4.5, 1.5], [6.0, 3.4, 4.5, 1.6], [6.7, 3.1, 4.7, 1.5], [6.3, 2.3, 4.4, 1.3], [5.6, 3.0, 4.1, 1.3], [5.5, 2.5, 4.0, 1.3], [5.5, 2.6, 4.4, 1.2], [6.1, 3.0, 4.6, 1.4], [5.8, 2.6, 4.0, 1.2], [5.0, 2.3, 3.3, 1.0], [5.6, 2.7, 4.2, 1.3], [5.7, 3.0, 4.2, 1.2], [5.7, 2.9, 4.2, 1.3], [6.2, 2.9, 4.3, 1.3], [5.1, 2.5, 3.0, 1.1], [5.7, 2.8, 4.1, 1.3], [5.8, 2.7, 5.1, 1.9], [6.3, 2.9, 5.6, 1.8], [4.9, 2.5, 4.5, 1.7], [6.5, 3.2, 5.1, 2.0], [6.4, 2.7, 5.3, 1.9], [5.7, 2.5, 5.0, 2.0], [5.8, 2.8, 5.1, 2.4], [6.4, 3.2, 5.3, 2.3], [6.5, 3.0, 5.5, 1.8], [6.0, 2.2, 5.0, 1.5], [5.6, 2.8, 4.9, 2.0], [6.3, 2.7, 4.9, 1.8], [6.2, 2.8, 4.8, 1.8], [6.1, 3.0, 4.9, 1.8], [7.2, 3.0, 5.8, 1.6], [6.3, 2.8, 5.1, 1.5], [6.1, 2.6, 5.6, 1.4], [6.4, 3.1, 5.5, 1.8], [6.0, 3.0, 4.8, 1.8], [6.9, 3.1, 5.4, 2.1], [6.9, 3.1, 5.1, 2.3], [5.8, 2.7, 5.1, 1.9], [6.7, 3.0, 5.2, 2.3], [6.3, 2.5, 5.0, 1.9], [6.5, 3.0, 5.2, 2.0], [6.2, 3.4, 5.4, 2.3], [5.9, 3.0, 5.1, 1.8]], \"coef0\": 0.0, \"coefficients\": [[4.68638136589, 4.68638136589, 4.68638136589, 4.68638136589, 4.68638136589, 4.68638136589, 4.68638136589, 0.0, 4.68638136589, 0.0, 4.68638136589, 4.68638136589, 4.68638136589, 4.68638136589, 4.68638136589, 4.68638136589, 4.68638136589, 4.68638136589, 4.68638136589, 4.68638136589, 4.68638136589, 4.68638136589, 4.68638136589, 4.68638136589, 4.68638136589, 4.68638136589, 4.68638136589, 0.0, 0.0, -0.0, -0.0, -0.0, -4.68638136589, -0.0, -0.0, -0.0, -4.68638136589, -0.0, -4.68638136589, -4.68638136589, -4.68638136589, -4.68638136589, -0.0, -4.68638136589, -0.0, -0.0, -4.68638136589, -0.0, -4.68638136589, -0.0, -4.68638136589, -0.0, -0.0, -0.0, -0.0, -0.0, -0.0, -4.68638136589, -4.68638136589, -4.68638136589, -4.68638136589, -0.0, -0.0, -0.0, -0.0, -0.0, -4.68638136589, -4.68638136589, -4.68638136589, -0.0, -4.68638136589, -4.68638136589, -4.68638136589, -4.68638136589, -4.68638136589, -4.68638136589, -4.68638136589, -4.68638136589, -2.12722207893, -2.12722207893, -2.12722207893, -2.12722207893, -2.12722207893, -2.12722207893, -2.12722207893, -2.12722207893, -2.12722207893, -2.12722207893, -2.12722207893, -2.12722207893, -2.12722207893, -2.12722207893, -0.0, -2.12722207893, -2.12722207893, -2.12722207893, -2.12722207893, -0.0, -2.12722207893, -2.12722207893, -2.12722207893, -2.12722207893, -2.12722207893, -2.12722207893, -2.12722207893], [0.0, 0.0, 2.12722207893, 2.12722207893, 2.12722207893, 2.12722207893, 2.12722207893, 2.12722207893, 2.12722207893, 2.12722207893, 2.12722207893, 2.12722207893, 2.12722207893, 2.12722207893, 2.12722207893, 2.12722207893, 2.12722207893, 2.12722207893, 2.12722207893, 2.12722207893, 2.12722207893, 2.12722207893, 2.12722207893, 0.0, 2.12722207893, 2.12722207893, 0.0, 2.12722207893, 2.12722207893, 47.5293417737, 47.5293417737, 47.5293417737, 0.0, 47.5293417737, 47.5293417737, 47.5293417737, 0.0, 47.5293417737, 0.0, 0.0, 0.0, 0.0, 47.5293417737, 0.0, 47.5293417737, 47.5293417737, 0.0, 47.5293417737, 0.0, 47.5293417737, 0.0, 47.5293417737, 47.5293417737, 47.5293417737, 47.5293417737, 47.5293417737, 47.5293417737, 0.0, 0.0, 0.0, 0.0, 47.5293417737, 47.5293417737, 47.5293417737, 47.5293417737, 47.5293417737, 0.0, 0.0, 47.5293417737, 47.5293417737, 0.0, 0.0, 0.0, 0.0, 0.0, 0.0, 0.0, 0.0, -47.5293417737, -47.5293417737, -47.5293417737, -47.5293417737, -47.5293417737, -47.5293417737, -47.5293417737, -0.0, -47.5293417737, -47.5293417737, -47.5293417737, -47.5293417737, -47.5293417737, -47.5293417737, -47.5293417737, -47.5293417737, -47.5293417737, -47.5293417737, -47.5293417737, -47.5293417737, -47.5293417737, -47.5293417737, -47.5293417737, -47.5293417737, -47.5293417737, -0.0, -47.5293417737]]}"
     ]
    }
   ],
   "source": [
    "%%bash\n",
    "\n",
    "cat data.json"
   ]
  },
  {
   "cell_type": "markdown",
   "metadata": {
    "hideOutput": false
   },
   "source": [
    "### Run classification in Java:"
   ]
  },
  {
   "cell_type": "markdown",
   "metadata": {},
   "source": [
    "Save the transpiled estimator:"
   ]
  },
  {
   "cell_type": "code",
   "execution_count": 6,
   "metadata": {
    "collapsed": true
   },
   "outputs": [],
   "source": [
    "with open('NuSVC.java', 'w') as f:\n",
    "    f.write(output)"
   ]
  },
  {
   "cell_type": "markdown",
   "metadata": {},
   "source": [
    "Download the dependencies:"
   ]
  },
  {
   "cell_type": "code",
   "execution_count": 7,
   "metadata": {},
   "outputs": [
    {
     "name": "stderr",
     "output_type": "stream",
     "text": [
      "--2017-12-01 22:22:50--  http://central.maven.org/maven2/com/google/code/gson/gson/2.8.2/gson-2.8.2.jar\n",
      "Resolving central.maven.org... 151.101.36.209\n",
      "Connecting to central.maven.org|151.101.36.209|:80... connected.\n",
      "HTTP request sent, awaiting response... 200 OK\n",
      "Length: 232932 (227K) [application/java-archive]\n",
      "Saving to: 'gson-2.8.2.jar'\n",
      "\n",
      "     0K .......... .......... .......... .......... .......... 21% 1.59M 0s\n",
      "    50K .......... .......... .......... .......... .......... 43% 5.35M 0s\n",
      "   100K .......... .......... .......... .......... .......... 65% 2.97M 0s\n",
      "   150K .......... .......... .......... .......... .......... 87%  109M 0s\n",
      "   200K .......... .......... .......                         100% 5.61M=0.06s\n",
      "\n",
      "2017-12-01 22:22:50 (3.61 MB/s) - 'gson-2.8.2.jar' saved [232932/232932]\n",
      "\n"
     ]
    }
   ],
   "source": [
    "%%bash\n",
    "\n",
    "wget http://central.maven.org/maven2/com/google/code/gson/gson/2.8.2/gson-2.8.2.jar"
   ]
  },
  {
   "cell_type": "markdown",
   "metadata": {},
   "source": [
    "Compiling:"
   ]
  },
  {
   "cell_type": "code",
   "execution_count": 8,
   "metadata": {
    "collapsed": true
   },
   "outputs": [],
   "source": [
    "%%bash\n",
    "\n",
    "javac -cp .:gson-2.8.2.jar NuSVC.java"
   ]
  },
  {
   "cell_type": "markdown",
   "metadata": {},
   "source": [
    "Prediction:"
   ]
  },
  {
   "cell_type": "code",
   "execution_count": 9,
   "metadata": {},
   "outputs": [
    {
     "name": "stdout",
     "output_type": "stream",
     "text": [
      "0\n"
     ]
    }
   ],
   "source": [
    "%%bash\n",
    "\n",
    "java -cp .:gson-2.8.2.jar NuSVC data.json 1 2 3 4"
   ]
  }
 ],
 "metadata": {
  "kernelspec": {
   "display_name": "Python 2",
   "language": "python",
   "name": "python2"
  },
  "language_info": {
   "codemirror_mode": {
    "name": "ipython",
    "version": 2
   },
   "file_extension": ".py",
   "mimetype": "text/x-python",
   "name": "python",
   "nbconvert_exporter": "python",
   "pygments_lexer": "ipython2",
   "version": "2.7.13"
  }
 },
 "nbformat": 4,
 "nbformat_minor": 2
}
