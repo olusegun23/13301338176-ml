{
 "cells": [
  {
   "cell_type": "markdown",
   "metadata": {},
   "source": [
    "# sklearn-porter\n",
    "\n",
    "Repository: https://github.com/nok/sklearn-porter\n",
    "\n",
    "## KNeighborsClassifier\n",
    "\n",
    "Documentation: [sklearn.neighbors.KNeighborsClassifier](http://scikit-learn.org/stable/modules/generated/sklearn.neighbors.KNeighborsClassifier.html)"
   ]
  },
  {
   "cell_type": "markdown",
   "metadata": {},
   "source": [
    "### Loading data:"
   ]
  },
  {
   "cell_type": "code",
   "execution_count": 1,
   "metadata": {},
   "outputs": [
    {
     "name": "stdout",
     "output_type": "stream",
     "text": [
      "((150, 4), (150,))\n"
     ]
    }
   ],
   "source": [
    "from sklearn.datasets import load_iris\n",
    "\n",
    "iris_data = load_iris()\n",
    "X = iris_data.data\n",
    "y = iris_data.target\n",
    "\n",
    "print(X.shape, y.shape)"
   ]
  },
  {
   "cell_type": "markdown",
   "metadata": {},
   "source": [
    "### Train classifier:"
   ]
  },
  {
   "cell_type": "code",
   "execution_count": 2,
   "metadata": {},
   "outputs": [
    {
     "data": {
      "text/plain": [
       "KNeighborsClassifier(algorithm='brute', leaf_size=30, metric='minkowski',\n",
       "           metric_params=None, n_jobs=1, n_neighbors=3, p=2,\n",
       "           weights='uniform')"
      ]
     },
     "execution_count": 2,
     "metadata": {},
     "output_type": "execute_result"
    }
   ],
   "source": [
    "from sklearn.neighbors import KNeighborsClassifier\n",
    "\n",
    "clf = KNeighborsClassifier(algorithm='brute',\n",
    "                           n_neighbors=3,\n",
    "                           weights='uniform')\n",
    "clf.fit(X, y)"
   ]
  },
  {
   "cell_type": "markdown",
   "metadata": {},
   "source": [
    "### Transpile classifier:"
   ]
  },
  {
   "cell_type": "code",
   "execution_count": 4,
   "metadata": {
    "scrolled": false
   },
   "outputs": [
    {
     "name": "stdout",
     "output_type": "stream",
     "text": [
      "CPU times: user 3.67 ms, sys: 1.91 ms, total: 5.59 ms\n",
      "Wall time: 4.21 ms\n"
     ]
    }
   ],
   "source": [
    "%%time\n",
    "\n",
    "from sklearn_porter import Porter\n",
    "\n",
    "porter = Porter(clf)\n",
    "output = porter.export(export_data=True)\n",
    "\n",
    "with open('KNeighborsClassifier.java', 'w') as f:\n",
    "    f.write(output)"
   ]
  },
  {
   "cell_type": "markdown",
   "metadata": {},
   "source": [
    "Classifier:"
   ]
  },
  {
   "cell_type": "code",
   "execution_count": 5,
   "metadata": {},
   "outputs": [
    {
     "name": "stdout",
     "output_type": "stream",
     "text": [
      "import java.io.File;\n",
      "import java.io.FileNotFoundException;\n",
      "import java.util.*;\n",
      "import com.google.gson.Gson;\n",
      "\n",
      "\n",
      "class KNeighborsClassifier {\n",
      "\n",
      "    private class Classifier {\n",
      "        private int kNeighbors;\n",
      "        private int nClasses;\n",
      "        private double power;\n",
      "        private double[][] X;\n",
      "        private int[] y;\n",
      "    }\n",
      "\n",
      "    private class Sample {\n",
      "        Integer y;\n",
      "        Double dist;\n",
      "        private Sample(int y, double distance) {\n",
      "            this.y = y;\n",
      "            this.dist = distance;\n",
      "        }\n",
      "    }\n",
      "\n",
      "    private Classifier clf;\n",
      "    private int nTemplates;\n",
      "\n",
      "    public KNeighborsClassifier(String file) throws FileNotFoundException {\n",
      "        String jsonStr = new Scanner(new File(file)).useDelimiter(\"\\\\Z\").next();\n",
      "        this.clf = new Gson().fromJson(jsonStr, Classifier.class);\n",
      "        this.nTemplates = this.clf.y.length;\n",
      "    }\n",
      "\n",
      "    private static double compute(double[] temp, double[] cand, double q) {\n",
      "        double dist = 0.;\n",
      "        double diff;\n",
      "        for (int i = 0, l = temp.length; i < l; i++) {\n",
      "            diff = Math.abs(temp[i] - cand[i]);\n",
      "            if (q==1) {\n",
      "                dist += diff;\n",
      "            } else if (q==2) {\n",
      "                dist += diff*diff;\n",
      "            } else if (q==Double.POSITIVE_INFINITY) {\n",
      "                if (diff > dist) {\n",
      "                    dist = diff;\n",
      "                }\n",
      "            } else {\n",
      "                dist += Math.pow(diff, q);\n",
      "            }\n",
      "        }\n",
      "        if (q==1 || q==Double.POSITIVE_INFINITY) {\n",
      "            return dist;\n",
      "        } else if (q==2) {\n",
      "            return Math.sqrt(dist);\n",
      "        } else {\n",
      "            return Math.pow(dist, 1. / q);\n",
      "        }\n",
      "    }\n",
      "\n",
      "    public int predict(double[] features) {\n",
      "        int classIdx = 0;\n",
      "        if (this.clf.kNeighbors == 1) {\n",
      "            double minDist = Double.POSITIVE_INFINITY;\n",
      "            double curDist;\n",
      "            for (int i = 0; i < this.nTemplates; i++) {\n",
      "                curDist = KNeighborsClassifier.compute(this.clf.X[i],\n",
      "                        features, this.clf.power);\n",
      "                if (curDist <= minDist) {\n",
      "                    minDist = curDist;\n",
      "                    classIdx = this.clf.y[i];\n",
      "                }\n",
      "            }\n",
      "        } else {\n",
      "            int[] classes = new int[this.clf.nClasses];\n",
      "            ArrayList<Sample> dists = new ArrayList<Sample>();\n",
      "            for (int i = 0; i < this.nTemplates; i++) {\n",
      "                double dist = KNeighborsClassifier.compute(\n",
      "                        this.clf.X[i], features, this.clf.power);\n",
      "                dists.add(new Sample(this.clf.y[i], dist));\n",
      "            }\n",
      "            Collections.sort(dists, new Comparator<Sample>() {\n",
      "                @Override\n",
      "                public int compare(Sample n1, Sample n2) {\n",
      "                    return n1.dist.compareTo(n2.dist);\n",
      "                }\n",
      "            });\n",
      "            for (Sample neighbor : dists.subList(0, this.clf.kNeighbors)) {\n",
      "                classes[neighbor.y]++;\n",
      "            }\n",
      "            for (int i = 0; i < this.clf.nClasses; i++) {\n",
      "                classIdx = classes[i] > classes[classIdx] ? i : classIdx;\n",
      "            }\n",
      "        }\n",
      "        return classIdx;\n",
      "    }\n",
      "\n",
      "    public static void main(String[] args) throws FileNotFoundException {\n",
      "        if (args.length > 0 && args[0].endsWith(\".json\")) {\n",
      "\n",
      "            // Features:\n",
      "            double[] features = new double[args.length-1];\n",
      "            for (int i = 1, l = args.length; i < l; i++) {\n",
      "                features[i - 1] = Double.parseDouble(args[i]);\n",
      "            }\n",
      "\n",
      "            // Parameters:\n",
      "            String modelData = args[0];\n",
      "\n",
      "            // Estimators:\n",
      "            KNeighborsClassifier clf = new KNeighborsClassifier(modelData);\n",
      "\n",
      "            // Prediction:\n",
      "            int prediction = clf.predict(features);\n",
      "            System.out.println(prediction);\n",
      "\n",
      "        }\n",
      "    }\n",
      "}"
     ]
    }
   ],
   "source": [
    "%%bash\n",
    "\n",
    "cat KNeighborsClassifier.java"
   ]
  },
  {
   "cell_type": "markdown",
   "metadata": {},
   "source": [
    "Parameters:"
   ]
  },
  {
   "cell_type": "code",
   "execution_count": 6,
   "metadata": {},
   "outputs": [
    {
     "name": "stdout",
     "output_type": "stream",
     "text": [
      "{\"y\": [0, 0, 0, 0, 0, 0, 0, 0, 0, 0, 0, 0, 0, 0, 0, 0, 0, 0, 0, 0, 0, 0, 0, 0, 0, 0, 0, 0, 0, 0, 0, 0, 0, 0, 0, 0, 0, 0, 0, 0, 0, 0, 0, 0, 0, 0, 0, 0, 0, 0, 1, 1, 1, 1, 1, 1, 1, 1, 1, 1, 1, 1, 1, 1, 1, 1, 1, 1, 1, 1, 1, 1, 1, 1, 1, 1, 1, 1, 1, 1, 1, 1, 1, 1, 1, 1, 1, 1, 1, 1, 1, 1, 1, 1, 1, 1, 1, 1, 1, 1, 2, 2, 2, 2, 2, 2, 2, 2, 2, 2, 2, 2, 2, 2, 2, 2, 2, 2, 2, 2, 2, 2, 2, 2, 2, 2, 2, 2, 2, 2, 2, 2, 2, 2, 2, 2, 2, 2, 2, 2, 2, 2, 2, 2, 2, 2, 2, 2, 2, 2], \"X\": [[5.1, 3.5, 1.4, 0.2], [4.9, 3.0, 1.4, 0.2], [4.7, 3.2, 1.3, 0.2], [4.6, 3.1, 1.5, 0.2], [5.0, 3.6, 1.4, 0.2], [5.4, 3.9, 1.7, 0.4], [4.6, 3.4, 1.4, 0.3], [5.0, 3.4, 1.5, 0.2], [4.4, 2.9, 1.4, 0.2], [4.9, 3.1, 1.5, 0.1], [5.4, 3.7, 1.5, 0.2], [4.8, 3.4, 1.6, 0.2], [4.8, 3.0, 1.4, 0.1], [4.3, 3.0, 1.1, 0.1], [5.8, 4.0, 1.2, 0.2], [5.7, 4.4, 1.5, 0.4], [5.4, 3.9, 1.3, 0.4], [5.1, 3.5, 1.4, 0.3], [5.7, 3.8, 1.7, 0.3], [5.1, 3.8, 1.5, 0.3], [5.4, 3.4, 1.7, 0.2], [5.1, 3.7, 1.5, 0.4], [4.6, 3.6, 1.0, 0.2], [5.1, 3.3, 1.7, 0.5], [4.8, 3.4, 1.9, 0.2], [5.0, 3.0, 1.6, 0.2], [5.0, 3.4, 1.6, 0.4], [5.2, 3.5, 1.5, 0.2], [5.2, 3.4, 1.4, 0.2], [4.7, 3.2, 1.6, 0.2], [4.8, 3.1, 1.6, 0.2], [5.4, 3.4, 1.5, 0.4], [5.2, 4.1, 1.5, 0.1], [5.5, 4.2, 1.4, 0.2], [4.9, 3.1, 1.5, 0.1], [5.0, 3.2, 1.2, 0.2], [5.5, 3.5, 1.3, 0.2], [4.9, 3.1, 1.5, 0.1], [4.4, 3.0, 1.3, 0.2], [5.1, 3.4, 1.5, 0.2], [5.0, 3.5, 1.3, 0.3], [4.5, 2.3, 1.3, 0.3], [4.4, 3.2, 1.3, 0.2], [5.0, 3.5, 1.6, 0.6], [5.1, 3.8, 1.9, 0.4], [4.8, 3.0, 1.4, 0.3], [5.1, 3.8, 1.6, 0.2], [4.6, 3.2, 1.4, 0.2], [5.3, 3.7, 1.5, 0.2], [5.0, 3.3, 1.4, 0.2], [7.0, 3.2, 4.7, 1.4], [6.4, 3.2, 4.5, 1.5], [6.9, 3.1, 4.9, 1.5], [5.5, 2.3, 4.0, 1.3], [6.5, 2.8, 4.6, 1.5], [5.7, 2.8, 4.5, 1.3], [6.3, 3.3, 4.7, 1.6], [4.9, 2.4, 3.3, 1.0], [6.6, 2.9, 4.6, 1.3], [5.2, 2.7, 3.9, 1.4], [5.0, 2.0, 3.5, 1.0], [5.9, 3.0, 4.2, 1.5], [6.0, 2.2, 4.0, 1.0], [6.1, 2.9, 4.7, 1.4], [5.6, 2.9, 3.6, 1.3], [6.7, 3.1, 4.4, 1.4], [5.6, 3.0, 4.5, 1.5], [5.8, 2.7, 4.1, 1.0], [6.2, 2.2, 4.5, 1.5], [5.6, 2.5, 3.9, 1.1], [5.9, 3.2, 4.8, 1.8], [6.1, 2.8, 4.0, 1.3], [6.3, 2.5, 4.9, 1.5], [6.1, 2.8, 4.7, 1.2], [6.4, 2.9, 4.3, 1.3], [6.6, 3.0, 4.4, 1.4], [6.8, 2.8, 4.8, 1.4], [6.7, 3.0, 5.0, 1.7], [6.0, 2.9, 4.5, 1.5], [5.7, 2.6, 3.5, 1.0], [5.5, 2.4, 3.8, 1.1], [5.5, 2.4, 3.7, 1.0], [5.8, 2.7, 3.9, 1.2], [6.0, 2.7, 5.1, 1.6], [5.4, 3.0, 4.5, 1.5], [6.0, 3.4, 4.5, 1.6], [6.7, 3.1, 4.7, 1.5], [6.3, 2.3, 4.4, 1.3], [5.6, 3.0, 4.1, 1.3], [5.5, 2.5, 4.0, 1.3], [5.5, 2.6, 4.4, 1.2], [6.1, 3.0, 4.6, 1.4], [5.8, 2.6, 4.0, 1.2], [5.0, 2.3, 3.3, 1.0], [5.6, 2.7, 4.2, 1.3], [5.7, 3.0, 4.2, 1.2], [5.7, 2.9, 4.2, 1.3], [6.2, 2.9, 4.3, 1.3], [5.1, 2.5, 3.0, 1.1], [5.7, 2.8, 4.1, 1.3], [6.3, 3.3, 6.0, 2.5], [5.8, 2.7, 5.1, 1.9], [7.1, 3.0, 5.9, 2.1], [6.3, 2.9, 5.6, 1.8], [6.5, 3.0, 5.8, 2.2], [7.6, 3.0, 6.6, 2.1], [4.9, 2.5, 4.5, 1.7], [7.3, 2.9, 6.3, 1.8], [6.7, 2.5, 5.8, 1.8], [7.2, 3.6, 6.1, 2.5], [6.5, 3.2, 5.1, 2.0], [6.4, 2.7, 5.3, 1.9], [6.8, 3.0, 5.5, 2.1], [5.7, 2.5, 5.0, 2.0], [5.8, 2.8, 5.1, 2.4], [6.4, 3.2, 5.3, 2.3], [6.5, 3.0, 5.5, 1.8], [7.7, 3.8, 6.7, 2.2], [7.7, 2.6, 6.9, 2.3], [6.0, 2.2, 5.0, 1.5], [6.9, 3.2, 5.7, 2.3], [5.6, 2.8, 4.9, 2.0], [7.7, 2.8, 6.7, 2.0], [6.3, 2.7, 4.9, 1.8], [6.7, 3.3, 5.7, 2.1], [7.2, 3.2, 6.0, 1.8], [6.2, 2.8, 4.8, 1.8], [6.1, 3.0, 4.9, 1.8], [6.4, 2.8, 5.6, 2.1], [7.2, 3.0, 5.8, 1.6], [7.4, 2.8, 6.1, 1.9], [7.9, 3.8, 6.4, 2.0], [6.4, 2.8, 5.6, 2.2], [6.3, 2.8, 5.1, 1.5], [6.1, 2.6, 5.6, 1.4], [7.7, 3.0, 6.1, 2.3], [6.3, 3.4, 5.6, 2.4], [6.4, 3.1, 5.5, 1.8], [6.0, 3.0, 4.8, 1.8], [6.9, 3.1, 5.4, 2.1], [6.7, 3.1, 5.6, 2.4], [6.9, 3.1, 5.1, 2.3], [5.8, 2.7, 5.1, 1.9], [6.8, 3.2, 5.9, 2.3], [6.7, 3.3, 5.7, 2.5], [6.7, 3.0, 5.2, 2.3], [6.3, 2.5, 5.0, 1.9], [6.5, 3.0, 5.2, 2.0], [6.2, 3.4, 5.4, 2.3], [5.9, 3.0, 5.1, 1.8]], \"power\": 2, \"nClasses\": 3, \"kNeighbors\": 3}"
     ]
    }
   ],
   "source": [
    "%%bash\n",
    "\n",
    "cat data.json"
   ]
  },
  {
   "cell_type": "markdown",
   "metadata": {},
   "source": [
    "File size:"
   ]
  },
  {
   "cell_type": "code",
   "execution_count": 7,
   "metadata": {},
   "outputs": [
    {
     "name": "stdout",
     "output_type": "stream",
     "text": [
      "4.0K\tdata.json\n"
     ]
    }
   ],
   "source": [
    "%%bash\n",
    "\n",
    "du -h data.json"
   ]
  },
  {
   "cell_type": "markdown",
   "metadata": {
    "hideOutput": false
   },
   "source": [
    "### Run classification in Java:"
   ]
  },
  {
   "cell_type": "code",
   "execution_count": 8,
   "metadata": {},
   "outputs": [
    {
     "name": "stderr",
     "output_type": "stream",
     "text": [
      "--2017-11-24 01:02:17--  http://central.maven.org/maven2/com/google/code/gson/gson/2.8.2/gson-2.8.2.jar\n",
      "Resolving central.maven.org... 151.101.36.209\n",
      "Connecting to central.maven.org|151.101.36.209|:80... connected.\n",
      "HTTP request sent, awaiting response... 200 OK\n",
      "Length: 232932 (227K) [application/java-archive]\n",
      "Saving to: 'gson-2.8.2.jar.1'\n",
      "\n",
      "     0K .......... .......... .......... .......... .......... 21% 2.15M 0s\n",
      "    50K .......... .......... .......... .......... .......... 43% 4.25M 0s\n",
      "   100K .......... .......... .......... .......... .......... 65% 3.83M 0s\n",
      "   150K .......... .......... .......... .......... .......... 87% 3.76M 0s\n",
      "   200K .......... .......... .......                         100% 1.97M=0.07s\n",
      "\n",
      "2017-11-24 01:02:17 (3.02 MB/s) - 'gson-2.8.2.jar.1' saved [232932/232932]\n",
      "\n"
     ]
    }
   ],
   "source": [
    "%%bash\n",
    "\n",
    "wget http://central.maven.org/maven2/com/google/code/gson/gson/2.8.2/gson-2.8.2.jar"
   ]
  },
  {
   "cell_type": "code",
   "execution_count": 9,
   "metadata": {},
   "outputs": [
    {
     "name": "stdout",
     "output_type": "stream",
     "text": [
      "1\n"
     ]
    }
   ],
   "source": [
    "%%bash\n",
    "\n",
    "javac -cp .:gson-2.8.2.jar KNeighborsClassifier.java\n",
    "java -cp .:gson-2.8.2.jar KNeighborsClassifier data.json 1 2 3 4"
   ]
  }
 ],
 "metadata": {
  "kernelspec": {
   "display_name": "Python 2",
   "language": "python",
   "name": "python2"
  },
  "language_info": {
   "codemirror_mode": {
    "name": "ipython",
    "version": 2
   },
   "file_extension": ".py",
   "mimetype": "text/x-python",
   "name": "python",
   "nbconvert_exporter": "python",
   "pygments_lexer": "ipython2",
   "version": "2.7.13"
  }
 },
 "nbformat": 4,
 "nbformat_minor": 2
}
