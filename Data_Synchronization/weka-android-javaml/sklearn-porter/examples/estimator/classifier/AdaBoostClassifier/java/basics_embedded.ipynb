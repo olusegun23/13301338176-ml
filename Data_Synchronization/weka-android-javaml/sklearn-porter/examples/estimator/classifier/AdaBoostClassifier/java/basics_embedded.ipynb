{
 "cells": [
  {
   "cell_type": "markdown",
   "metadata": {},
   "source": [
    "# sklearn-porter\n",
    "\n",
    "Repository: https://github.com/nok/sklearn-porter\n",
    "\n",
    "## AdaBoostClassifier\n",
    "\n",
    "Documentation: [sklearn.ensemble.AdaBoostClassifier](http://scikit-learn.org/stable/modules/generated/sklearn.ensemble.AdaBoostClassifier.html)"
   ]
  },
  {
   "cell_type": "markdown",
   "metadata": {},
   "source": [
    "### Loading data:"
   ]
  },
  {
   "cell_type": "code",
   "execution_count": 1,
   "metadata": {},
   "outputs": [
    {
     "name": "stdout",
     "output_type": "stream",
     "text": [
      "((150, 4), (150,))\n"
     ]
    }
   ],
   "source": [
    "from sklearn.datasets import load_iris\n",
    "\n",
    "iris_data = load_iris()\n",
    "X = iris_data.data\n",
    "y = iris_data.target\n",
    "\n",
    "print(X.shape, y.shape)"
   ]
  },
  {
   "cell_type": "markdown",
   "metadata": {},
   "source": [
    "### Train classifier:"
   ]
  },
  {
   "cell_type": "code",
   "execution_count": 2,
   "metadata": {},
   "outputs": [
    {
     "data": {
      "text/plain": [
       "AdaBoostClassifier(algorithm='SAMME.R',\n",
       "          base_estimator=DecisionTreeClassifier(class_weight=None, criterion='gini', max_depth=4,\n",
       "            max_features=None, max_leaf_nodes=None,\n",
       "            min_impurity_decrease=0.0, min_impurity_split=None,\n",
       "            min_samples_leaf=1, min_samples_split=2,\n",
       "            min_weight_fraction_leaf=0.0, presort=False, random_state=0,\n",
       "            splitter='best'),\n",
       "          learning_rate=1.0, n_estimators=100, random_state=0)"
      ]
     },
     "execution_count": 2,
     "metadata": {},
     "output_type": "execute_result"
    }
   ],
   "source": [
    "from sklearn.ensemble import AdaBoostClassifier\n",
    "from sklearn.tree import DecisionTreeClassifier\n",
    "\n",
    "base_estimator = DecisionTreeClassifier(max_depth=4, random_state=0)\n",
    "clf = AdaBoostClassifier(base_estimator=base_estimator, n_estimators=100,\n",
    "                         random_state=0)\n",
    "clf.fit(X, y)"
   ]
  },
  {
   "cell_type": "markdown",
   "metadata": {},
   "source": [
    "### Transpile classifier:"
   ]
  },
  {
   "cell_type": "code",
   "execution_count": 5,
   "metadata": {
    "scrolled": false
   },
   "outputs": [
    {
     "name": "stdout",
     "output_type": "stream",
     "text": [
      "class AdaBoostClassifier {\n",
      "\n",
      "    private static int findMax(double[] nums) {\n",
      "        int index = 0;\n",
      "        for (int i = 0; i < nums.length; i++) {\n",
      "            index = nums[i] > nums[index] ? i : index;\n",
      "        }\n",
      "        return index;\n",
      "    }\n",
      "    \n",
      "    private static double[] predict_0(double[] features) {\n",
      "        double[] classes = new double[3];\n",
      "        if (features[3] <= 0.800000011921) {\n",
      "            classes[0] = 0.333333333333; \n",
      "            classes[1] = 0.0; \n",
      "            classes[2] = 0.0; \n",
      "        } else {\n",
      "            if (features[3] <= 1.75) {\n",
      "                if (features[2] <= 4.94999980927) {\n",
      "                    if (features[3] <= 1.65000009537) {\n",
      "                        classes[0] = 0.0; \n",
      "                        classes[1] = 0.313333333333; \n",
      "                        classes[2] = 0.0; \n",
      "                    } else {\n",
      "                        classes[0] = 0.0; \n",
      "                        classes[1] = 0.0; \n",
      "                        classes[2] = 0.00666666666667; \n",
      "                    }\n",
      "                } else {\n",
      "                    if (features[3] <= 1.54999995232) {\n",
      "                        classes[0] = 0.0; \n",
      "                        classes[1] = 0.0; \n",
      "                        classes[2] = 0.02; \n",
      "                    } else {\n",
      "                        classes[0] = 0.0; \n",
      "                        classes[1] = 0.0133333333333; \n",
      "                        classes[2] = 0.00666666666667; \n",
      "                    }\n",
      "                }\n",
      "            } else {\n",
      "                if (features[2] <= 4.85000038147) {\n",
      "                    if (features[0] <= 5.94999980927) {\n",
      "                        classes[0] = 0.0; \n",
      "                        classes[1] = 0.00666666666667; \n",
      "                        classes[2] = 0.0; \n",
      "                    } else {\n",
      "                        classes[0] = 0.0; \n",
      "                        classes[1] = 0.0; \n",
      "                        classes[2] = 0.0133333333333; \n",
      "                    }\n",
      "                } else {\n",
      "                    classes[0] = 0.0; \n",
      "                    classes[1] = 0.0; \n",
      "                    classes[2] = 0.286666666667; \n",
      "                }\n",
      "            }\n",
      "        }\n",
      "        return classes;\n",
      "    }\n",
      "    \n",
      "    private static double[] predict_1(double[] features) {\n",
      "        double[] classes = new double[3];\n",
      "        if (features[2] <= 5.14999961853) {\n",
      "            if (features[2] <= 2.45000004768) {\n",
      "                classes[0] = 8.3290724464e-05; \n",
      "                classes[1] = 0.0; \n",
      "                classes[2] = 0.0; \n",
      "            } else {\n",
      "                if (features[3] <= 1.75) {\n",
      "                    if (features[0] <= 4.94999980927) {\n",
      "                        classes[0] = 0.0; \n",
      "                        classes[1] = 1.66581448928e-06; \n",
      "                        classes[2] = 1.66581448928e-06; \n",
      "                    } else {\n",
      "                        classes[0] = 0.0; \n",
      "                        classes[1] = 0.499954190102; \n",
      "                        classes[2] = 3.33162897856e-06; \n",
      "                    }\n",
      "                } else {\n",
      "                    if (features[1] <= 3.15000009537) {\n",
      "                        classes[0] = 0.0; \n",
      "                        classes[1] = 0.0; \n",
      "                        classes[2] = 1.99897738714e-05; \n",
      "                    } else {\n",
      "                        classes[0] = 0.0; \n",
      "                        classes[1] = 1.66581448928e-06; \n",
      "                        classes[2] = 1.66581448928e-06; \n",
      "                    }\n",
      "                }\n",
      "            }\n",
      "        } else {\n",
      "            classes[0] = 0.0; \n",
      "            classes[1] = 0.0; \n",
      "            classes[2] = 0.499932534513; \n",
      "        }\n",
      "        return classes;\n",
      "    }\n",
      "    \n",
      "    private static double[] predict_2(double[] features) {\n",
      "        double[] classes = new double[3];\n",
      "        if (features[3] <= 1.54999995232) {\n",
      "            if (features[2] <= 4.94999980927) {\n",
      "                if (features[3] <= 0.800000011921) {\n",
      "                    classes[0] = 2.67881771865e-08; \n",
      "                    classes[1] = 0.0; \n",
      "                    classes[2] = 0.0; \n",
      "                } else {\n",
      "                    classes[0] = 0.0; \n",
      "                    classes[1] = 0.000184731094993; \n",
      "                    classes[2] = 0.0; \n",
      "                }\n",
      "            } else {\n",
      "                classes[0] = 0.0; \n",
      "                classes[1] = 0.0; \n",
      "                classes[2] = 0.499696643102; \n",
      "            }\n",
      "        } else {\n",
      "            if (features[2] <= 5.14999961853) {\n",
      "                if (features[3] <= 1.84999990463) {\n",
      "                    if (features[0] <= 5.40000009537) {\n",
      "                        classes[0] = 0.0; \n",
      "                        classes[1] = 0.0; \n",
      "                        classes[2] = 0.000111473015249; \n",
      "                    } else {\n",
      "                        classes[0] = 0.0; \n",
      "                        classes[1] = 0.499734857502; \n",
      "                        classes[2] = 2.67881771865e-09; \n",
      "                    }\n",
      "                } else {\n",
      "                    classes[0] = 0.0; \n",
      "                    classes[1] = 0.0; \n",
      "                    classes[2] = 0.000111476765594; \n",
      "                }\n",
      "            } else {\n",
      "                classes[0] = 0.0; \n",
      "                classes[1] = 0.0; \n",
      "                classes[2] = 0.000160789052777; \n",
      "            }\n",
      "        }\n",
      "        return classes;\n",
      "    }\n",
      "    \n",
      "    private static double[] predict_3(double[] features) {\n",
      "        double[] classes = new double[3];\n",
      "        if (features[3] <= 1.75) {\n",
      "            if (features[3] <= 1.54999995232) {\n",
      "                if (features[2] <= 4.94999980927) {\n",
      "                    if (features[3] <= 0.800000011921) {\n",
      "                        classes[0] = 9.25765397376e-11; \n",
      "                        classes[1] = 0.0; \n",
      "                        classes[2] = 0.0; \n",
      "                    } else {\n",
      "                        classes[0] = 0.0; \n",
      "                        classes[1] = 6.38407213652e-07; \n",
      "                        classes[2] = 0.0; \n",
      "                    }\n",
      "                } else {\n",
      "                    classes[0] = 0.0; \n",
      "                    classes[1] = 0.0; \n",
      "                    classes[2] = 0.00172688816469; \n",
      "                }\n",
      "            } else {\n",
      "                if (features[0] <= 6.94999980927) {\n",
      "                    if (features[1] <= 2.59999990463) {\n",
      "                        classes[0] = 0.0; \n",
      "                        classes[1] = 0.0; \n",
      "                        classes[2] = 3.85236589785e-07; \n",
      "                    } else {\n",
      "                        classes[0] = 0.0; \n",
      "                        classes[1] = 0.499024234255; \n",
      "                        classes[2] = 0.0; \n",
      "                    }\n",
      "                } else {\n",
      "                    classes[0] = 0.0; \n",
      "                    classes[1] = 0.0; \n",
      "                    classes[2] = 5.55607306084e-07; \n",
      "                }\n",
      "            }\n",
      "        } else {\n",
      "            if (features[1] <= 3.15000009537) {\n",
      "                classes[0] = 0.0; \n",
      "                classes[1] = 0.0; \n",
      "                classes[2] = 0.499135573641; \n",
      "            } else {\n",
      "                if (features[2] <= 4.94999980927) {\n",
      "                    classes[0] = 0.0; \n",
      "                    classes[1] = 0.000111339336392; \n",
      "                    classes[2] = 0.0; \n",
      "                } else {\n",
      "                    classes[0] = 0.0; \n",
      "                    classes[1] = 0.0; \n",
      "                    classes[2] = 3.85258808154e-07; \n",
      "                }\n",
      "            }\n",
      "        }\n",
      "        return classes;\n",
      "    }\n",
      "    \n",
      "    public static int predict(double[] features) {\n",
      "        int n_estimators = 4;\n",
      "        int n_classes = 3;\n",
      "    \n",
      "        double[][] preds = new double[n_estimators][];\n",
      "        preds[0] = AdaBoostClassifier.predict_0(features);\n",
      "        preds[1] = AdaBoostClassifier.predict_1(features);\n",
      "        preds[2] = AdaBoostClassifier.predict_2(features);\n",
      "        preds[3] = AdaBoostClassifier.predict_3(features);\n",
      "    \n",
      "        int i, j;\n",
      "        double normalizer, sum;\n",
      "        for (i = 0; i < n_estimators; i++) {\n",
      "            normalizer = 0.;\n",
      "            for (j = 0; j < n_classes; j++) {\n",
      "                normalizer += preds[i][j];\n",
      "            }\n",
      "            if (normalizer == 0.) {\n",
      "                normalizer = 1.;\n",
      "            }\n",
      "            for (j = 0; j < n_classes; j++) {\n",
      "                preds[i][j] = preds[i][j] / normalizer;\n",
      "                if (preds[i][j] <= 2.2204460492503131e-16) {\n",
      "                    preds[i][j] = 2.2204460492503131e-16;\n",
      "                }\n",
      "                preds[i][j] = Math.log(preds[i][j]);\n",
      "            }\n",
      "            sum = 0.;\n",
      "            for (j = 0; j < n_classes; j++) {\n",
      "                sum += preds[i][j];\n",
      "            }\n",
      "            for (j = 0; j < n_classes; j++) {\n",
      "                preds[i][j] = (n_classes - 1) * (preds[i][j] - (1. / n_classes) * sum);\n",
      "            }\n",
      "        }\n",
      "        double[] classes = new double[n_classes];\n",
      "        for (i = 0; i < n_estimators; i++) {\n",
      "            for (j = 0; j < n_classes; j++) {\n",
      "                classes[j] += preds[i][j];\n",
      "            }\n",
      "        }\n",
      "    \n",
      "        return AdaBoostClassifier.findMax(classes);\n",
      "    }\n",
      "\n",
      "    public static void main(String[] args) {\n",
      "        if (args.length == 4) {\n",
      "\n",
      "            // Features:\n",
      "            double[] features = new double[args.length];\n",
      "            for (int i = 0, l = args.length; i < l; i++) {\n",
      "                features[i] = Double.parseDouble(args[i]);\n",
      "            }\n",
      "\n",
      "            // Prediction:\n",
      "            int prediction = AdaBoostClassifier.predict(features);\n",
      "            System.out.println(prediction);\n",
      "\n",
      "        }\n",
      "    }\n",
      "\n",
      "}\n",
      "CPU times: user 3.13 ms, sys: 2.24 ms, total: 5.37 ms\n",
      "Wall time: 3.6 ms\n"
     ]
    }
   ],
   "source": [
    "%%time\n",
    "\n",
    "from sklearn_porter import Porter\n",
    "\n",
    "porter = Porter(clf)\n",
    "output = porter.export()\n",
    "\n",
    "print(output)"
   ]
  },
  {
   "cell_type": "markdown",
   "metadata": {},
   "source": [
    "### Run classification in Java:"
   ]
  },
  {
   "cell_type": "markdown",
   "metadata": {},
   "source": [
    "Save the estimator:"
   ]
  },
  {
   "cell_type": "code",
   "execution_count": 6,
   "metadata": {
    "collapsed": true
   },
   "outputs": [],
   "source": [
    "with open('AdaBoostClassifier.java', 'w') as f:\n",
    "    f.write(output)"
   ]
  },
  {
   "cell_type": "markdown",
   "metadata": {},
   "source": [
    "Compiling:"
   ]
  },
  {
   "cell_type": "code",
   "execution_count": 7,
   "metadata": {
    "collapsed": true
   },
   "outputs": [],
   "source": [
    "%%bash\n",
    "\n",
    "javac -cp . AdaBoostClassifier.java"
   ]
  },
  {
   "cell_type": "markdown",
   "metadata": {},
   "source": [
    "Prediction:"
   ]
  },
  {
   "cell_type": "code",
   "execution_count": 8,
   "metadata": {},
   "outputs": [
    {
     "name": "stdout",
     "output_type": "stream",
     "text": [
      "2\n"
     ]
    }
   ],
   "source": [
    "%%bash\n",
    "\n",
    "java AdaBoostClassifier 1 2 3 4"
   ]
  }
 ],
 "metadata": {
  "kernelspec": {
   "display_name": "Python 2",
   "language": "python",
   "name": "python2"
  },
  "language_info": {
   "codemirror_mode": {
    "name": "ipython",
    "version": 2
   },
   "file_extension": ".py",
   "mimetype": "text/x-python",
   "name": "python",
   "nbconvert_exporter": "python",
   "pygments_lexer": "ipython2",
   "version": "2.7.13"
  }
 },
 "nbformat": 4,
 "nbformat_minor": 2
}
