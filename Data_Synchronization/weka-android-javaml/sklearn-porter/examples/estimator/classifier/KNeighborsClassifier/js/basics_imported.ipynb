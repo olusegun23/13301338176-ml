{
 "cells": [
  {
   "cell_type": "markdown",
   "metadata": {},
   "source": [
    "# sklearn-porter\n",
    "\n",
    "Repository: https://github.com/nok/sklearn-porter\n",
    "\n",
    "## KNeighborsClassifier\n",
    "\n",
    "Documentation: [sklearn.neighbors.KNeighborsClassifier](http://scikit-learn.org/stable/modules/generated/sklearn.neighbors.KNeighborsClassifier.html)"
   ]
  },
  {
   "cell_type": "markdown",
   "metadata": {},
   "source": [
    "### Loading data:"
   ]
  },
  {
   "cell_type": "code",
   "execution_count": 1,
   "metadata": {},
   "outputs": [
    {
     "name": "stdout",
     "output_type": "stream",
     "text": [
      "((150, 4), (150,))\n"
     ]
    }
   ],
   "source": [
    "from sklearn.datasets import load_iris\n",
    "\n",
    "iris_data = load_iris()\n",
    "X = iris_data.data\n",
    "y = iris_data.target\n",
    "\n",
    "print(X.shape, y.shape)"
   ]
  },
  {
   "cell_type": "markdown",
   "metadata": {},
   "source": [
    "### Train classifier:"
   ]
  },
  {
   "cell_type": "code",
   "execution_count": 2,
   "metadata": {},
   "outputs": [
    {
     "data": {
      "text/plain": [
       "KNeighborsClassifier(algorithm='brute', leaf_size=30, metric='minkowski',\n",
       "           metric_params=None, n_jobs=1, n_neighbors=3, p=2,\n",
       "           weights='uniform')"
      ]
     },
     "execution_count": 2,
     "metadata": {},
     "output_type": "execute_result"
    }
   ],
   "source": [
    "from sklearn.neighbors import KNeighborsClassifier\n",
    "\n",
    "clf = KNeighborsClassifier(algorithm='brute',\n",
    "                           n_neighbors=3,\n",
    "                           weights='uniform')\n",
    "clf.fit(X, y)"
   ]
  },
  {
   "cell_type": "markdown",
   "metadata": {},
   "source": [
    "### Transpile classifier:"
   ]
  },
  {
   "cell_type": "code",
   "execution_count": 5,
   "metadata": {
    "scrolled": false
   },
   "outputs": [
    {
     "name": "stdout",
     "output_type": "stream",
     "text": [
      "CPU times: user 3.64 ms, sys: 2.36 ms, total: 6.01 ms\n",
      "Wall time: 4.14 ms\n"
     ]
    }
   ],
   "source": [
    "%%time\n",
    "\n",
    "from sklearn_porter import Porter\n",
    "\n",
    "porter = Porter(clf, language='js')\n",
    "output = porter.export(export_data=True)\n",
    "\n",
    "with open('KNeighborsClassifier.js', 'w') as f:\n",
    "    f.write(output)"
   ]
  },
  {
   "cell_type": "markdown",
   "metadata": {},
   "source": [
    "Classifier:"
   ]
  },
  {
   "cell_type": "code",
   "execution_count": 6,
   "metadata": {},
   "outputs": [
    {
     "name": "stdout",
     "output_type": "stream",
     "text": [
      "if (typeof XMLHttpRequest === 'undefined') {\n",
      "    var XMLHttpRequest = require(\"xmlhttprequest\").XMLHttpRequest;\n",
      "}\n",
      "\n",
      "var KNeighborsClassifier = function(jsonFile) {\n",
      "    this.data = undefined;\n",
      "\n",
      "    var Neighbor = function(y, dist) {\n",
      "        this.y = y;\n",
      "        this.dist = dist;\n",
      "    };\n",
      "\n",
      "    var promise = new Promise(function(resolve, reject) {\n",
      "        var httpRequest = new XMLHttpRequest();\n",
      "        httpRequest.onreadystatechange = function() {\n",
      "            if (httpRequest.readyState === 4) {\n",
      "                if (httpRequest.status === 200) {\n",
      "                    resolve(JSON.parse(httpRequest.responseText));\n",
      "                } else {\n",
      "                    reject(new Error(httpRequest.statusText));\n",
      "                }\n",
      "            }\n",
      "        };\n",
      "        httpRequest.open('GET', jsonFile, true);\n",
      "        httpRequest.send();\n",
      "    });\n",
      "\n",
      "    var compute = function(temp, cand, q) {\n",
      "        var dist = 0.,\n",
      "            diff;\n",
      "        for (var i = 0, l = temp.length; i < l; i++) {\n",
      "    \t    diff = Math.abs(temp[i] - cand[i]);\n",
      "    \t    if (q==1) {\n",
      "    \t        dist += diff;\n",
      "    \t    } else if (q==2) {\n",
      "    \t        dist += diff*diff;\n",
      "    \t    } else if (q==Number.POSITIVE_INFINITY) {\n",
      "    \t        if (diff > dist) {\n",
      "    \t            dist = diff;\n",
      "    \t        }\n",
      "    \t    } else {\n",
      "    \t        dist += Math.pow(diff, q);\n",
      "            }\n",
      "        }\n",
      "        if (q==1 || q==Number.POSITIVE_INFINITY) {\n",
      "            return dist;\n",
      "        } else if (q==2) {\n",
      "            return Math.sqrt(dist);\n",
      "        } else {\n",
      "            return Math.pow(dist, 1. / q);\n",
      "        }\n",
      "    };\n",
      "\n",
      "    this.predict = function(features) {\n",
      "        return new Promise(function(resolve, reject) {\n",
      "            promise.then(function(data) {\n",
      "                if (typeof this.data === 'undefined') {\n",
      "                    this.data = data;\n",
      "                    this.nTemplates = this.data.X.length;\n",
      "                }\n",
      "                var classIdx = 0, i, dist;\n",
      "                if (this.data.nNeighbors == 1) {\n",
      "                    var minDist = Number.POSITIVE_INFINITY;\n",
      "                    for (i = 0; i < this.data.nTemplates; i++) {\n",
      "                        dist = compute(this.data.X[i], features, this.data.power);\n",
      "                        if (dist <= minDist) {\n",
      "                            minDist = dist;\n",
      "                            classIdx = this.data.y[i];\n",
      "                        }\n",
      "                    }\n",
      "                } else {\n",
      "                    var classes = new Array(this.data.nClasses).fill(0);\n",
      "                    var dists = [];\n",
      "                    for (i = 0; i < this.nTemplates; i++) {\n",
      "                        dist = compute(this.data.X[i], features, this.data.power);\n",
      "                        dists.push(new Neighbor(this.data.y[i], dist));\n",
      "                    }\n",
      "                    dists.sort(function compare(n1, n2) {\n",
      "                        return (n1.dist < n2.dist) ? -1 : 1;\n",
      "                    });\n",
      "                    for (i = 0; i < this.data.kNeighbors; i++) {\n",
      "                        classes[dists[i].y]++;\n",
      "                    }\n",
      "                    for (i = 0; i < this.data.nClasses; i++) {\n",
      "                        classIdx = classes[i] > classes[classIdx] ? i : classIdx;\n",
      "                    }\n",
      "                }\n",
      "                resolve(classIdx);\n",
      "            }, function(error) {\n",
      "                reject(error);\n",
      "            });\n",
      "        });\n",
      "    };\n",
      "\n",
      "};\n",
      "\n",
      "if (typeof process !== 'undefined' && typeof process.argv !== 'undefined') {\n",
      "    if (process.argv[2].trim().endsWith('.json')) {\n",
      "\n",
      "        // Features:\n",
      "        var features = process.argv.slice(3);\n",
      "\n",
      "        // Parameters:\n",
      "        var json = process.argv[2];\n",
      "\n",
      "        // Estimator:\n",
      "        var clf = new KNeighborsClassifier(json);\n",
      "\n",
      "        // Prediction:\n",
      "        clf.predict(features).then(function(prediction) {\n",
      "            console.log(prediction);\n",
      "        });\n",
      "\n",
      "    }\n",
      "}"
     ]
    }
   ],
   "source": [
    "%%bash\n",
    "\n",
    "cat KNeighborsClassifier.java"
   ]
  },
  {
   "cell_type": "markdown",
   "metadata": {},
   "source": [
    "Parameters:"
   ]
  },
  {
   "cell_type": "code",
   "execution_count": 7,
   "metadata": {},
   "outputs": [
    {
     "name": "stdout",
     "output_type": "stream",
     "text": [
      "{\"y\": [0, 0, 0, 0, 0, 0, 0, 0, 0, 0, 0, 0, 0, 0, 0, 0, 0, 0, 0, 0, 0, 0, 0, 0, 0, 0, 0, 0, 0, 0, 0, 0, 0, 0, 0, 0, 0, 0, 0, 0, 0, 0, 0, 0, 0, 0, 0, 0, 0, 0, 1, 1, 1, 1, 1, 1, 1, 1, 1, 1, 1, 1, 1, 1, 1, 1, 1, 1, 1, 1, 1, 1, 1, 1, 1, 1, 1, 1, 1, 1, 1, 1, 1, 1, 1, 1, 1, 1, 1, 1, 1, 1, 1, 1, 1, 1, 1, 1, 1, 1, 2, 2, 2, 2, 2, 2, 2, 2, 2, 2, 2, 2, 2, 2, 2, 2, 2, 2, 2, 2, 2, 2, 2, 2, 2, 2, 2, 2, 2, 2, 2, 2, 2, 2, 2, 2, 2, 2, 2, 2, 2, 2, 2, 2, 2, 2, 2, 2, 2, 2], \"X\": [[5.1, 3.5, 1.4, 0.2], [4.9, 3.0, 1.4, 0.2], [4.7, 3.2, 1.3, 0.2], [4.6, 3.1, 1.5, 0.2], [5.0, 3.6, 1.4, 0.2], [5.4, 3.9, 1.7, 0.4], [4.6, 3.4, 1.4, 0.3], [5.0, 3.4, 1.5, 0.2], [4.4, 2.9, 1.4, 0.2], [4.9, 3.1, 1.5, 0.1], [5.4, 3.7, 1.5, 0.2], [4.8, 3.4, 1.6, 0.2], [4.8, 3.0, 1.4, 0.1], [4.3, 3.0, 1.1, 0.1], [5.8, 4.0, 1.2, 0.2], [5.7, 4.4, 1.5, 0.4], [5.4, 3.9, 1.3, 0.4], [5.1, 3.5, 1.4, 0.3], [5.7, 3.8, 1.7, 0.3], [5.1, 3.8, 1.5, 0.3], [5.4, 3.4, 1.7, 0.2], [5.1, 3.7, 1.5, 0.4], [4.6, 3.6, 1.0, 0.2], [5.1, 3.3, 1.7, 0.5], [4.8, 3.4, 1.9, 0.2], [5.0, 3.0, 1.6, 0.2], [5.0, 3.4, 1.6, 0.4], [5.2, 3.5, 1.5, 0.2], [5.2, 3.4, 1.4, 0.2], [4.7, 3.2, 1.6, 0.2], [4.8, 3.1, 1.6, 0.2], [5.4, 3.4, 1.5, 0.4], [5.2, 4.1, 1.5, 0.1], [5.5, 4.2, 1.4, 0.2], [4.9, 3.1, 1.5, 0.1], [5.0, 3.2, 1.2, 0.2], [5.5, 3.5, 1.3, 0.2], [4.9, 3.1, 1.5, 0.1], [4.4, 3.0, 1.3, 0.2], [5.1, 3.4, 1.5, 0.2], [5.0, 3.5, 1.3, 0.3], [4.5, 2.3, 1.3, 0.3], [4.4, 3.2, 1.3, 0.2], [5.0, 3.5, 1.6, 0.6], [5.1, 3.8, 1.9, 0.4], [4.8, 3.0, 1.4, 0.3], [5.1, 3.8, 1.6, 0.2], [4.6, 3.2, 1.4, 0.2], [5.3, 3.7, 1.5, 0.2], [5.0, 3.3, 1.4, 0.2], [7.0, 3.2, 4.7, 1.4], [6.4, 3.2, 4.5, 1.5], [6.9, 3.1, 4.9, 1.5], [5.5, 2.3, 4.0, 1.3], [6.5, 2.8, 4.6, 1.5], [5.7, 2.8, 4.5, 1.3], [6.3, 3.3, 4.7, 1.6], [4.9, 2.4, 3.3, 1.0], [6.6, 2.9, 4.6, 1.3], [5.2, 2.7, 3.9, 1.4], [5.0, 2.0, 3.5, 1.0], [5.9, 3.0, 4.2, 1.5], [6.0, 2.2, 4.0, 1.0], [6.1, 2.9, 4.7, 1.4], [5.6, 2.9, 3.6, 1.3], [6.7, 3.1, 4.4, 1.4], [5.6, 3.0, 4.5, 1.5], [5.8, 2.7, 4.1, 1.0], [6.2, 2.2, 4.5, 1.5], [5.6, 2.5, 3.9, 1.1], [5.9, 3.2, 4.8, 1.8], [6.1, 2.8, 4.0, 1.3], [6.3, 2.5, 4.9, 1.5], [6.1, 2.8, 4.7, 1.2], [6.4, 2.9, 4.3, 1.3], [6.6, 3.0, 4.4, 1.4], [6.8, 2.8, 4.8, 1.4], [6.7, 3.0, 5.0, 1.7], [6.0, 2.9, 4.5, 1.5], [5.7, 2.6, 3.5, 1.0], [5.5, 2.4, 3.8, 1.1], [5.5, 2.4, 3.7, 1.0], [5.8, 2.7, 3.9, 1.2], [6.0, 2.7, 5.1, 1.6], [5.4, 3.0, 4.5, 1.5], [6.0, 3.4, 4.5, 1.6], [6.7, 3.1, 4.7, 1.5], [6.3, 2.3, 4.4, 1.3], [5.6, 3.0, 4.1, 1.3], [5.5, 2.5, 4.0, 1.3], [5.5, 2.6, 4.4, 1.2], [6.1, 3.0, 4.6, 1.4], [5.8, 2.6, 4.0, 1.2], [5.0, 2.3, 3.3, 1.0], [5.6, 2.7, 4.2, 1.3], [5.7, 3.0, 4.2, 1.2], [5.7, 2.9, 4.2, 1.3], [6.2, 2.9, 4.3, 1.3], [5.1, 2.5, 3.0, 1.1], [5.7, 2.8, 4.1, 1.3], [6.3, 3.3, 6.0, 2.5], [5.8, 2.7, 5.1, 1.9], [7.1, 3.0, 5.9, 2.1], [6.3, 2.9, 5.6, 1.8], [6.5, 3.0, 5.8, 2.2], [7.6, 3.0, 6.6, 2.1], [4.9, 2.5, 4.5, 1.7], [7.3, 2.9, 6.3, 1.8], [6.7, 2.5, 5.8, 1.8], [7.2, 3.6, 6.1, 2.5], [6.5, 3.2, 5.1, 2.0], [6.4, 2.7, 5.3, 1.9], [6.8, 3.0, 5.5, 2.1], [5.7, 2.5, 5.0, 2.0], [5.8, 2.8, 5.1, 2.4], [6.4, 3.2, 5.3, 2.3], [6.5, 3.0, 5.5, 1.8], [7.7, 3.8, 6.7, 2.2], [7.7, 2.6, 6.9, 2.3], [6.0, 2.2, 5.0, 1.5], [6.9, 3.2, 5.7, 2.3], [5.6, 2.8, 4.9, 2.0], [7.7, 2.8, 6.7, 2.0], [6.3, 2.7, 4.9, 1.8], [6.7, 3.3, 5.7, 2.1], [7.2, 3.2, 6.0, 1.8], [6.2, 2.8, 4.8, 1.8], [6.1, 3.0, 4.9, 1.8], [6.4, 2.8, 5.6, 2.1], [7.2, 3.0, 5.8, 1.6], [7.4, 2.8, 6.1, 1.9], [7.9, 3.8, 6.4, 2.0], [6.4, 2.8, 5.6, 2.2], [6.3, 2.8, 5.1, 1.5], [6.1, 2.6, 5.6, 1.4], [7.7, 3.0, 6.1, 2.3], [6.3, 3.4, 5.6, 2.4], [6.4, 3.1, 5.5, 1.8], [6.0, 3.0, 4.8, 1.8], [6.9, 3.1, 5.4, 2.1], [6.7, 3.1, 5.6, 2.4], [6.9, 3.1, 5.1, 2.3], [5.8, 2.7, 5.1, 1.9], [6.8, 3.2, 5.9, 2.3], [6.7, 3.3, 5.7, 2.5], [6.7, 3.0, 5.2, 2.3], [6.3, 2.5, 5.0, 1.9], [6.5, 3.0, 5.2, 2.0], [6.2, 3.4, 5.4, 2.3], [5.9, 3.0, 5.1, 1.8]], \"power\": 2, \"nClasses\": 3, \"kNeighbors\": 3}"
     ]
    }
   ],
   "source": [
    "%%bash\n",
    "\n",
    "cat data.json"
   ]
  },
  {
   "cell_type": "markdown",
   "metadata": {},
   "source": [
    "File size:"
   ]
  },
  {
   "cell_type": "code",
   "execution_count": 8,
   "metadata": {},
   "outputs": [
    {
     "name": "stdout",
     "output_type": "stream",
     "text": [
      "4.0K\tdata.json\n"
     ]
    }
   ],
   "source": [
    "%%bash\n",
    "\n",
    "du -h data.json"
   ]
  },
  {
   "cell_type": "markdown",
   "metadata": {
    "hideOutput": false
   },
   "source": [
    "### Run classification in JavaScript:"
   ]
  },
  {
   "cell_type": "code",
   "execution_count": 9,
   "metadata": {},
   "outputs": [
    {
     "name": "stdout",
     "output_type": "stream",
     "text": [
      "1\n"
     ]
    },
    {
     "name": "stderr",
     "output_type": "stream",
     "text": [
      "127.0.0.1 - - [26/Nov/2017 01:19:45] \"GET /data.json HTTP/1.1\" 200 -\n"
     ]
    }
   ],
   "source": [
    "%%bash\n",
    "\n",
    "if hash node 2/dev/null; then\n",
    "    python -m SimpleHTTPServer 8877 & serve_pid=$!\n",
    "    node KNeighborsClassifier.js http://127.0.0.1:8877/data.json 1 2 3 4\n",
    "    kill $serve_pid\n",
    "fi"
   ]
  }
 ],
 "metadata": {
  "kernelspec": {
   "display_name": "Python 2",
   "language": "python",
   "name": "python2"
  },
  "language_info": {
   "codemirror_mode": {
    "name": "ipython",
    "version": 2
   },
   "file_extension": ".py",
   "mimetype": "text/x-python",
   "name": "python",
   "nbconvert_exporter": "python",
   "pygments_lexer": "ipython2",
   "version": "2.7.13"
  }
 },
 "nbformat": 4,
 "nbformat_minor": 2
}
