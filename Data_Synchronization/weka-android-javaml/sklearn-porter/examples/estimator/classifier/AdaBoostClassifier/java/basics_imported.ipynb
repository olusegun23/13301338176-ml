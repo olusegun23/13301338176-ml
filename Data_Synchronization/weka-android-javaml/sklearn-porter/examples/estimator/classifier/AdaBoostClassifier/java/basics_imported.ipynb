{
 "cells": [
  {
   "cell_type": "markdown",
   "metadata": {},
   "source": [
    "# sklearn-porter\n",
    "\n",
    "Repository: https://github.com/nok/sklearn-porter\n",
    "\n",
    "## AdaBoostClassifier\n",
    "\n",
    "Documentation: [sklearn.ensemble.AdaBoostClassifier](http://scikit-learn.org/stable/modules/generated/sklearn.ensemble.AdaBoostClassifier.html)"
   ]
  },
  {
   "cell_type": "markdown",
   "metadata": {},
   "source": [
    "### Loading data:"
   ]
  },
  {
   "cell_type": "code",
   "execution_count": 1,
   "metadata": {},
   "outputs": [
    {
     "name": "stdout",
     "output_type": "stream",
     "text": [
      "((150, 4), (150,))\n"
     ]
    }
   ],
   "source": [
    "from sklearn.datasets import load_iris\n",
    "\n",
    "iris_data = load_iris()\n",
    "X = iris_data.data\n",
    "y = iris_data.target\n",
    "\n",
    "print(X.shape, y.shape)"
   ]
  },
  {
   "cell_type": "markdown",
   "metadata": {},
   "source": [
    "### Train classifier:"
   ]
  },
  {
   "cell_type": "code",
   "execution_count": 2,
   "metadata": {},
   "outputs": [
    {
     "data": {
      "text/plain": [
       "AdaBoostClassifier(algorithm='SAMME.R',\n",
       "          base_estimator=DecisionTreeClassifier(class_weight=None, criterion='gini', max_depth=4,\n",
       "            max_features=None, max_leaf_nodes=None,\n",
       "            min_impurity_decrease=0.0, min_impurity_split=None,\n",
       "            min_samples_leaf=1, min_samples_split=2,\n",
       "            min_weight_fraction_leaf=0.0, presort=False, random_state=0,\n",
       "            splitter='best'),\n",
       "          learning_rate=1.0, n_estimators=100, random_state=0)"
      ]
     },
     "execution_count": 2,
     "metadata": {},
     "output_type": "execute_result"
    }
   ],
   "source": [
    "from sklearn.ensemble import AdaBoostClassifier\n",
    "from sklearn.tree import DecisionTreeClassifier\n",
    "\n",
    "base_estimator = DecisionTreeClassifier(max_depth=4, random_state=0)\n",
    "clf = AdaBoostClassifier(base_estimator=base_estimator, n_estimators=100,\n",
    "                         random_state=0)\n",
    "clf.fit(X, y)"
   ]
  },
  {
   "cell_type": "markdown",
   "metadata": {},
   "source": [
    "### Transpile classifier:"
   ]
  },
  {
   "cell_type": "code",
   "execution_count": 4,
   "metadata": {
    "scrolled": false
   },
   "outputs": [
    {
     "name": "stdout",
     "output_type": "stream",
     "text": [
      "import java.io.File;\n",
      "import java.io.FileNotFoundException;\n",
      "import java.io.IOException;\n",
      "import java.lang.reflect.Type;\n",
      "import java.util.List;\n",
      "import java.util.Scanner;\n",
      "import com.google.gson.Gson;\n",
      "import com.google.gson.reflect.TypeToken;\n",
      "\n",
      "\n",
      "class AdaBoostClassifier {\n",
      "\n",
      "    private class Tree {\n",
      "        private int[] childrenLeft;\n",
      "        private int[] childrenRight;\n",
      "        private double[] thresholds;\n",
      "        private int[] indices;\n",
      "        private double[][] classes;\n",
      "\n",
      "        private double[] predict (double[] features, int node) {\n",
      "            if (this.thresholds[node] != -2) {\n",
      "                if (features[this.indices[node]] <= this.thresholds[node]) {\n",
      "                    return this.predict(features, this.childrenLeft[node]);\n",
      "                } else {\n",
      "                    return this.predict(features, this.childrenRight[node]);\n",
      "                }\n",
      "            }\n",
      "            return this.classes[node];\n",
      "        }\n",
      "        private double[] predict (double[] features) {\n",
      "            return this.predict(features, 0);\n",
      "        }\n",
      "    }\n",
      "\n",
      "    private List<Tree> forest;\n",
      "    private int nClasses;\n",
      "    private int nEstimators;\n",
      "\n",
      "    public AdaBoostClassifier (String file) throws FileNotFoundException {\n",
      "        String jsonStr = new Scanner(new File(file)).useDelimiter(\"\\\\Z\").next();\n",
      "        Gson gson = new Gson();\n",
      "        Type listType = new TypeToken<List<Tree>>(){}.getType();\n",
      "        this.forest = gson.fromJson(jsonStr, listType);\n",
      "        this.nEstimators = this.forest.size();\n",
      "        this.nClasses = this.forest.get(0).classes[0].length;\n",
      "    }\n",
      "\n",
      "    private int findMax(double[] nums) {\n",
      "        int index = 0;\n",
      "        for (int i = 0; i < nums.length; i++) {\n",
      "            index = nums[i] > nums[index] ? i : index;\n",
      "        }\n",
      "        return index;\n",
      "    }\n",
      "\n",
      "    public int predict(double[] features) {\n",
      "        double[][] preds = new double[this.nEstimators][this.nClasses];\n",
      "        double normalizer, sum;\n",
      "        int i, j;\n",
      "\n",
      "        for (i = 0; i < this.nEstimators; i++) {\n",
      "            preds[i] = this.forest.get(i).predict(features, 0);\n",
      "        }\n",
      "        for (i = 0; i < this.nEstimators; i++) {\n",
      "            normalizer = 0.;\n",
      "            for (j = 0; j < this.nClasses; j++) {\n",
      "                normalizer += preds[i][j];\n",
      "            }\n",
      "            if (normalizer == 0.) {\n",
      "                normalizer = 1.;\n",
      "            }\n",
      "            for (j = 0; j < this.nClasses; j++) {\n",
      "                preds[i][j] = preds[i][j] / normalizer;\n",
      "                if (preds[i][j] <= 2.2204460492503131e-16) {\n",
      "                    preds[i][j] = 2.2204460492503131e-16;\n",
      "                }\n",
      "                preds[i][j] = Math.log(preds[i][j]);\n",
      "            }\n",
      "            sum = 0.;\n",
      "            for (j = 0; j < this.nClasses; j++) {\n",
      "                sum += preds[i][j];\n",
      "            }\n",
      "            for (j = 0; j < this.nClasses; j++) {\n",
      "                preds[i][j] = (this.nClasses - 1) * (preds[i][j] - (1. / this.nClasses) * sum);\n",
      "            }\n",
      "        }\n",
      "        double[] classes = new double[this.nClasses];\n",
      "        for (i = 0; i < this.nEstimators; i++) {\n",
      "            for (j = 0; j < this.nClasses; j++) {\n",
      "                classes[j] += preds[i][j];\n",
      "            }\n",
      "        }\n",
      "\n",
      "        return this.findMax(classes);\n",
      "    }\n",
      "\n",
      "    public static void main(String[] args) throws IOException {\n",
      "        if (args.length > 0 && args[0].endsWith(\".json\")) {\n",
      "\n",
      "            // Features:\n",
      "            double[] features = new double[args.length-1];\n",
      "            for (int i = 1, l = args.length; i < l; i++) {\n",
      "                features[i-1] = Double.parseDouble(args[i]);\n",
      "            }\n",
      "\n",
      "            // Parameters:\n",
      "            String modelData = args[0];\n",
      "\n",
      "            // Estimator:\n",
      "            AdaBoostClassifier clf = new AdaBoostClassifier(modelData);\n",
      "\n",
      "            // Prediction:\n",
      "            int prediction = clf.predict(features);\n",
      "            System.out.println(prediction);\n",
      "\n",
      "        }\n",
      "    }\n",
      "}\n",
      "CPU times: user 1.73 ms, sys: 1.43 ms, total: 3.16 ms\n",
      "Wall time: 2.12 ms\n"
     ]
    }
   ],
   "source": [
    "%%time\n",
    "\n",
    "from sklearn_porter import Porter\n",
    "\n",
    "porter = Porter(clf)\n",
    "output = porter.export(export_data=True)\n",
    "\n",
    "print(output)"
   ]
  },
  {
   "cell_type": "markdown",
   "metadata": {},
   "source": [
    "Parameters:"
   ]
  },
  {
   "cell_type": "code",
   "execution_count": 5,
   "metadata": {},
   "outputs": [
    {
     "name": "stdout",
     "output_type": "stream",
     "text": [
      "[{\"indices\": [3, -2, 3, 2, 3, -2, -2, 3, -2, -2, 2, 0, -2, -2, -2], \"thresholds\": [0.800000011921, -2.0, 1.75, 4.94999980927, 1.65000009537, -2.0, -2.0, 1.54999995232, -2.0, -2.0, 4.85000038147, 5.94999980927, -2.0, -2.0, -2.0], \"classes\": [[0.333333333333, 0.333333333333, 0.333333333333], [0.333333333333, 0.0, 0.0], [0.0, 0.333333333333, 0.333333333333], [0.0, 0.326666666667, 0.0333333333333], [0.0, 0.313333333333, 0.00666666666667], [0.0, 0.313333333333, 0.0], [0.0, 0.0, 0.00666666666667], [0.0, 0.0133333333333, 0.0266666666667], [0.0, 0.0, 0.02], [0.0, 0.0133333333333, 0.00666666666667], [0.0, 0.00666666666667, 0.3], [0.0, 0.00666666666667, 0.0133333333333], [0.0, 0.00666666666667, 0.0], [0.0, 0.0, 0.0133333333333], [0.0, 0.0, 0.286666666667]], \"childrenRight\": [2, -1, 10, 7, 6, -1, -1, 9, -1, -1, 14, 13, -1, -1, -1], \"childrenLeft\": [1, -1, 3, 4, 5, -1, -1, 8, -1, -1, 11, 12, -1, -1, -1]}, {\"indices\": [2, 2, -2, 3, 0, -2, -2, 1, -2, -2, -2], \"thresholds\": [5.14999961853, 2.45000004768, -2.0, 1.75, 4.94999980927, -2.0, -2.0, 3.15000009537, -2.0, -2.0, -2.0], \"classes\": [[8.3290724464e-05, 0.499957521731, 0.499959187545], [8.3290724464e-05, 0.499957521731, 2.66530318285e-05], [8.3290724464e-05, 0.0, 0.0], [0.0, 0.499957521731, 2.66530318285e-05], [0.0, 0.499955855916, 4.99744346784e-06], [0.0, 1.66581448928e-06, 1.66581448928e-06], [0.0, 0.499954190102, 3.33162897856e-06], [0.0, 1.66581448928e-06, 2.16555883606e-05], [0.0, 0.0, 1.99897738714e-05], [0.0, 1.66581448928e-06, 1.66581448928e-06], [0.0, 0.0, 0.499932534513]], \"childrenRight\": [10, 3, -1, 7, 6, -1, -1, 9, -1, -1, -1], \"childrenLeft\": [1, 2, -1, 4, 5, -1, -1, 8, -1, -1, -1]}, {\"indices\": [3, 2, 3, -2, -2, -2, 2, 3, 0, -2, -2, -2, -2], \"thresholds\": [1.54999995232, 4.94999980927, 0.800000011921, -2.0, -2.0, -2.0, 5.14999961853, 1.84999990463, 5.40000009537, -2.0, -2.0, -2.0, -2.0], \"classes\": [[2.67881771865e-08, 0.499919588597, 0.500080384615], [2.67881771865e-08, 0.000184731094993, 0.499696643102], [2.67881771865e-08, 0.000184731094993, 0.0], [2.67881771865e-08, 0.0, 0.0], [0.0, 0.000184731094993, 0.0], [0.0, 0.0, 0.499696643102], [0.0, 0.499734857502, 0.000383741512437], [0.0, 0.499734857502, 0.00022295245966], [0.0, 0.499734857502, 0.000111475694067], [0.0, 0.0, 0.000111473015249], [0.0, 0.499734857502, 2.67881771865e-09], [0.0, 0.0, 0.000111476765594], [0.0, 0.0, 0.000160789052777]], \"childrenRight\": [6, 5, 4, -1, -1, -1, 12, 11, 10, -1, -1, -1, -1], \"childrenLeft\": [1, 2, 3, -1, -1, -1, 7, 8, 9, -1, -1, -1, -1]}, {\"indices\": [3, 3, 2, 3, -2, -2, -2, 0, 1, -2, -2, -2, 1, -2, 2, -2, -2], \"thresholds\": [1.75, 1.54999995232, 4.94999980927, 0.800000011921, -2.0, -2.0, -2.0, 6.94999980927, 2.59999990463, -2.0, -2.0, -2.0, 3.15000009537, -2.0, 4.94999980927, -2.0, -2.0], \"classes\": [[9.25765397376e-11, 0.499136211999, 0.500863787909], [9.25765397376e-11, 0.499024872662, 0.00172782900859], [9.25765397376e-11, 6.38407213652e-07, 0.00172688816469], [9.25765397376e-11, 6.38407213652e-07, 0.0], [9.25765397376e-11, 0.0, 0.0], [0.0, 6.38407213652e-07, 0.0], [0.0, 0.0, 0.00172688816469], [0.0, 0.499024234255, 9.40843895869e-07], [0.0, 0.499024234255, 3.85236589785e-07], [0.0, 0.0, 3.85236589785e-07], [0.0, 0.499024234255, 0.0], [0.0, 0.0, 5.55607306084e-07], [0.0, 0.000111339336392, 0.4991359589], [0.0, 0.0, 0.499135573641], [0.0, 0.000111339336392, 3.85258808154e-07], [0.0, 0.000111339336392, 0.0], [0.0, 0.0, 3.85258808154e-07]], \"childrenRight\": [12, 7, 6, 5, -1, -1, -1, 11, 10, -1, -1, -1, 14, -1, 16, -1, -1], \"childrenLeft\": [1, 2, 3, 4, -1, -1, -1, 8, 9, -1, -1, -1, 13, -1, 15, -1, -1]}]"
     ]
    }
   ],
   "source": [
    "%%bash\n",
    "\n",
    "cat data.json"
   ]
  },
  {
   "cell_type": "markdown",
   "metadata": {},
   "source": [
    "### Run classification in Java:"
   ]
  },
  {
   "cell_type": "markdown",
   "metadata": {},
   "source": [
    "Save the estimator:"
   ]
  },
  {
   "cell_type": "code",
   "execution_count": 6,
   "metadata": {
    "collapsed": true
   },
   "outputs": [],
   "source": [
    "with open('AdaBoostClassifier.java', 'w') as f:\n",
    "    f.write(output)"
   ]
  },
  {
   "cell_type": "markdown",
   "metadata": {},
   "source": [
    "Download dependencies:"
   ]
  },
  {
   "cell_type": "code",
   "execution_count": 7,
   "metadata": {},
   "outputs": [
    {
     "name": "stderr",
     "output_type": "stream",
     "text": [
      "--2017-11-26 22:27:24--  http://central.maven.org/maven2/com/google/code/gson/gson/2.8.2/gson-2.8.2.jar\n",
      "Resolving central.maven.org... 151.101.36.209\n",
      "Connecting to central.maven.org|151.101.36.209|:80... connected.\n",
      "HTTP request sent, awaiting response... 200 OK\n",
      "Length: 232932 (227K) [application/java-archive]\n",
      "Saving to: 'gson-2.8.2.jar.1'\n",
      "\n",
      "     0K .......... .......... .......... .......... .......... 21% 1.55M 0s\n",
      "    50K .......... .......... .......... .......... .......... 43% 4.48M 0s\n",
      "   100K .......... .......... .......... .......... .......... 65% 6.49M 0s\n",
      "   150K .......... .......... .......... .......... .......... 87% 6.72M 0s\n",
      "   200K .......... .......... .......                         100% 6.03M=0.06s\n",
      "\n",
      "2017-11-26 22:27:24 (3.60 MB/s) - 'gson-2.8.2.jar.1' saved [232932/232932]\n",
      "\n"
     ]
    }
   ],
   "source": [
    "%%bash\n",
    "\n",
    "wget http://central.maven.org/maven2/com/google/code/gson/gson/2.8.2/gson-2.8.2.jar"
   ]
  },
  {
   "cell_type": "markdown",
   "metadata": {},
   "source": [
    "Compiling:"
   ]
  },
  {
   "cell_type": "code",
   "execution_count": 8,
   "metadata": {},
   "outputs": [],
   "source": [
    "%%bash\n",
    "\n",
    "javac -cp .:gson-2.8.2.jar AdaBoostClassifier.java"
   ]
  },
  {
   "cell_type": "markdown",
   "metadata": {},
   "source": [
    "Prediction:"
   ]
  },
  {
   "cell_type": "code",
   "execution_count": 9,
   "metadata": {},
   "outputs": [
    {
     "name": "stdout",
     "output_type": "stream",
     "text": [
      "2\n"
     ]
    }
   ],
   "source": [
    "%%bash\n",
    "\n",
    "java -cp .:gson-2.8.2.jar AdaBoostClassifier data.json 1 2 3 4"
   ]
  }
 ],
 "metadata": {
  "kernelspec": {
   "display_name": "Python 2",
   "language": "python",
   "name": "python2"
  },
  "language_info": {
   "codemirror_mode": {
    "name": "ipython",
    "version": 2
   },
   "file_extension": ".py",
   "mimetype": "text/x-python",
   "name": "python",
   "nbconvert_exporter": "python",
   "pygments_lexer": "ipython2",
   "version": "2.7.13"
  }
 },
 "nbformat": 4,
 "nbformat_minor": 2
}
