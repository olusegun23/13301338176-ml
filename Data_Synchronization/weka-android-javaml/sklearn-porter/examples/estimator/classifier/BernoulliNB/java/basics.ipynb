{
 "cells": [
  {
   "cell_type": "markdown",
   "metadata": {},
   "source": [
    "# sklearn-porter\n",
    "\n",
    "Repository: https://github.com/nok/sklearn-porter\n",
    "\n",
    "## BernoulliNB\n",
    "\n",
    "Documentation: [sklearn.naive_bayes.BernoulliNB](http://scikit-learn.org/stable/modules/generated/sklearn.naive_bayes.BernoulliNB.html)"
   ]
  },
  {
   "cell_type": "markdown",
   "metadata": {},
   "source": [
    "### Loading data:"
   ]
  },
  {
   "cell_type": "code",
   "execution_count": 1,
   "metadata": {},
   "outputs": [
    {
     "name": "stdout",
     "output_type": "stream",
     "text": [
      "((150, 4), (150,))\n"
     ]
    }
   ],
   "source": [
    "from sklearn.datasets import load_iris\n",
    "\n",
    "iris_data = load_iris()\n",
    "X = iris_data.data\n",
    "y = iris_data.target\n",
    "\n",
    "print(X.shape, y.shape)"
   ]
  },
  {
   "cell_type": "markdown",
   "metadata": {},
   "source": [
    "### Train classifier:"
   ]
  },
  {
   "cell_type": "code",
   "execution_count": 2,
   "metadata": {},
   "outputs": [
    {
     "data": {
      "text/plain": [
       "BernoulliNB(alpha=1.0, binarize=0.0, class_prior=None, fit_prior=True)"
      ]
     },
     "execution_count": 2,
     "metadata": {},
     "output_type": "execute_result"
    }
   ],
   "source": [
    "from sklearn.naive_bayes import BernoulliNB\n",
    "\n",
    "clf = BernoulliNB()\n",
    "clf.fit(X, y)"
   ]
  },
  {
   "cell_type": "markdown",
   "metadata": {},
   "source": [
    "### Transpile classifier:"
   ]
  },
  {
   "cell_type": "code",
   "execution_count": 3,
   "metadata": {
    "scrolled": false
   },
   "outputs": [
    {
     "name": "stdout",
     "output_type": "stream",
     "text": [
      "class BernoulliNB {\n",
      "\n",
      "    private double[] priors;\n",
      "    private double[][] negProbs;\n",
      "    private double[][] delProbs;\n",
      "\n",
      "    public BernoulliNB(double[] priors, double[][] negProbs, double[][] delProbs) {\n",
      "        this.priors = priors;\n",
      "        this.negProbs = negProbs;\n",
      "        this.delProbs = delProbs;\n",
      "    }\n",
      "\n",
      "    public int predict(double[] features) {\n",
      "        int nClasses = this.priors.length;\n",
      "        int nFeatures = this.delProbs.length;\n",
      "    \n",
      "        double[] jll = new double[nClasses];\n",
      "        for (int i = 0; i < nClasses; i++) {\n",
      "            double sum = 0.;\n",
      "            for (int j = 0; j < nFeatures; j++) {\n",
      "                sum += features[i] * this.delProbs[j][i];\n",
      "            }\n",
      "            jll[i] = sum;\n",
      "        }\n",
      "        for (int i = 0; i < nClasses; i++) {\n",
      "            double sum = 0.;\n",
      "            for (int j = 0; j < nFeatures; j++) {\n",
      "                sum += this.negProbs[i][j];\n",
      "            }\n",
      "            jll[i] += this.priors[i] + sum;\n",
      "        }\n",
      "    \n",
      "        int classIndex = 0;\n",
      "        for (int i = 0; i < nClasses; i++) {\n",
      "            classIndex = jll[i] > jll[classIndex] ? i : classIndex;\n",
      "        }\n",
      "        return classIndex;\n",
      "    }\n",
      "\n",
      "    public static void main(String[] args) {\n",
      "        if (args.length == 4) {\n",
      "\n",
      "            // Features:\n",
      "            double[] features = new double[args.length];\n",
      "            for (int i = 0, l = args.length; i < l; i++) {\n",
      "                features[i] = Double.parseDouble(args[i]);\n",
      "            }\n",
      "\n",
      "            // Parameters:\n",
      "            final double[] priors = {-1.0986122886681096, -1.0986122886681096, -1.0986122886681096};\n",
      "            final double[][] negProbs = {{-3.9512437185814138, -3.9512437185814138, -3.9512437185814138, -3.9512437185814138}, {-3.9512437185814138, -3.9512437185814138, -3.9512437185814138, -3.9512437185814138}, {-3.9512437185814138, -3.9512437185814138, -3.9512437185814138, -3.9512437185814138}};\n",
      "            final double[][] delProbs = {{3.931825632724312, 3.931825632724312, 3.931825632724312}, {3.931825632724312, 3.931825632724312, 3.931825632724312}, {3.931825632724312, 3.931825632724312, 3.931825632724312}, {3.931825632724312, 3.931825632724312, 3.931825632724312}};\n",
      "\n",
      "            // Prediction:\n",
      "            BernoulliNB clf = new BernoulliNB(priors, negProbs, delProbs);\n",
      "            int estimation = clf.predict(features);\n",
      "            System.out.println(estimation);\n",
      "\n",
      "        }\n",
      "    }\n",
      "}\n"
     ]
    }
   ],
   "source": [
    "from sklearn_porter import Porter\n",
    "\n",
    "porter = Porter(clf)\n",
    "output = porter.export()\n",
    "\n",
    "print(output)"
   ]
  }
 ],
 "metadata": {
  "kernelspec": {
   "display_name": "Python 2",
   "language": "python",
   "name": "python2"
  },
  "language_info": {
   "codemirror_mode": {
    "name": "ipython",
    "version": 2
   },
   "file_extension": ".py",
   "mimetype": "text/x-python",
   "name": "python",
   "nbconvert_exporter": "python",
   "pygments_lexer": "ipython2",
   "version": "2.7.13"
  }
 },
 "nbformat": 4,
 "nbformat_minor": 2
}
