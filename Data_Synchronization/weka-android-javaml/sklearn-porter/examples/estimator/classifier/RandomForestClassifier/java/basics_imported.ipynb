{
 "cells": [
  {
   "cell_type": "markdown",
   "metadata": {},
   "source": [
    "# sklearn-porter\n",
    "\n",
    "Repository: https://github.com/nok/sklearn-porter\n",
    "\n",
    "## RandomForestClassifier\n",
    "\n",
    "Documentation: [sklearn.ensemble.RandomForestClassifier](http://scikit-learn.org/stable/modules/generated/sklearn.ensemble.RandomForestClassifier.html)"
   ]
  },
  {
   "cell_type": "markdown",
   "metadata": {},
   "source": [
    "### Loading data:"
   ]
  },
  {
   "cell_type": "code",
   "execution_count": 1,
   "metadata": {},
   "outputs": [
    {
     "name": "stdout",
     "output_type": "stream",
     "text": [
      "((150, 4), (150,))\n"
     ]
    }
   ],
   "source": [
    "from sklearn.datasets import load_iris\n",
    "\n",
    "iris_data = load_iris()\n",
    "X = iris_data.data\n",
    "y = iris_data.target\n",
    "\n",
    "print(X.shape, y.shape)"
   ]
  },
  {
   "cell_type": "markdown",
   "metadata": {},
   "source": [
    "### Train classifier:"
   ]
  },
  {
   "cell_type": "code",
   "execution_count": 2,
   "metadata": {},
   "outputs": [
    {
     "data": {
      "text/plain": [
       "RandomForestClassifier(bootstrap=True, class_weight=None, criterion='gini',\n",
       "            max_depth=None, max_features='auto', max_leaf_nodes=None,\n",
       "            min_impurity_decrease=0.0, min_impurity_split=None,\n",
       "            min_samples_leaf=1, min_samples_split=2,\n",
       "            min_weight_fraction_leaf=0.0, n_estimators=15, n_jobs=1,\n",
       "            oob_score=False, random_state=0, verbose=0, warm_start=False)"
      ]
     },
     "execution_count": 2,
     "metadata": {},
     "output_type": "execute_result"
    }
   ],
   "source": [
    "from sklearn.ensemble import RandomForestClassifier\n",
    "\n",
    "clf = RandomForestClassifier(n_estimators=15, max_depth=None,\n",
    "                             min_samples_split=2, random_state=0)\n",
    "clf.fit(X, y)"
   ]
  },
  {
   "cell_type": "markdown",
   "metadata": {},
   "source": [
    "### Transpile classifier:"
   ]
  },
  {
   "cell_type": "code",
   "execution_count": 4,
   "metadata": {
    "scrolled": false
   },
   "outputs": [
    {
     "name": "stdout",
     "output_type": "stream",
     "text": [
      "import java.io.File;\n",
      "import java.io.FileNotFoundException;\n",
      "import java.io.IOException;\n",
      "import java.lang.reflect.Type;\n",
      "import java.util.List;\n",
      "import java.util.Scanner;\n",
      "import com.google.gson.Gson;\n",
      "import com.google.gson.reflect.TypeToken;\n",
      "\n",
      "\n",
      "class RandomForestClassifier {\n",
      "\n",
      "    private class Tree {\n",
      "        private int[] childrenLeft;\n",
      "        private int[] childrenRight;\n",
      "        private double[] thresholds;\n",
      "        private int[] indices;\n",
      "        private double[][] classes;\n",
      "\n",
      "        private int predict (double[] features, int node) {\n",
      "            if (this.thresholds[node] != -2) {\n",
      "                if (features[this.indices[node]] <= this.thresholds[node]) {\n",
      "                    return this.predict(features, this.childrenLeft[node]);\n",
      "                } else {\n",
      "                    return this.predict(features, this.childrenRight[node]);\n",
      "                }\n",
      "            }\n",
      "            return RandomForestClassifier.findMax(this.classes[node]);\n",
      "        }\n",
      "        private int predict (double[] features) {\n",
      "            return this.predict(features, 0);\n",
      "        }\n",
      "    }\n",
      "\n",
      "    private List<Tree> forest;\n",
      "    private int nClasses;\n",
      "    private int nEstimators;\n",
      "\n",
      "    public RandomForestClassifier (String file) throws FileNotFoundException {\n",
      "        String jsonStr = new Scanner(new File(file)).useDelimiter(\"\\\\Z\").next();\n",
      "        Gson gson = new Gson();\n",
      "        Type listType = new TypeToken<List<Tree>>(){}.getType();\n",
      "        this.forest = gson.fromJson(jsonStr, listType);\n",
      "        this.nEstimators = this.forest.size();\n",
      "        this.nClasses = this.forest.get(0).classes[0].length;\n",
      "    }\n",
      "\n",
      "    private static int findMax(double[] nums) {\n",
      "        int index = 0;\n",
      "        for (int i = 0; i < nums.length; i++) {\n",
      "            index = nums[i] > nums[index] ? i : index;\n",
      "        }\n",
      "        return index;\n",
      "    }\n",
      "\n",
      "    public int predict(double[] features) {\n",
      "        double[] classes = new double[this.nClasses];\n",
      "        for (int i = 0; i < this.nEstimators; i++) {\n",
      "            classes[this.forest.get(i).predict(features, 0)]++;\n",
      "        }\n",
      "        return RandomForestClassifier.findMax(classes);\n",
      "    }\n",
      "\n",
      "    public static void main(String[] args) throws IOException {\n",
      "        if (args.length > 0 && args[0].endsWith(\".json\")) {\n",
      "\n",
      "            // Features:\n",
      "            double[] features = new double[args.length-1];\n",
      "            for (int i = 1, l = args.length; i < l; i++) {\n",
      "                features[i-1] = Double.parseDouble(args[i]);\n",
      "            }\n",
      "\n",
      "            // Parameters:\n",
      "            String modelData = args[0];\n",
      "\n",
      "            // Estimator:\n",
      "            RandomForestClassifier clf = new RandomForestClassifier(modelData);\n",
      "\n",
      "            // Prediction:\n",
      "            int prediction = clf.predict(features);\n",
      "            System.out.println(prediction);\n",
      "\n",
      "        }\n",
      "    }\n",
      "}\n",
      "CPU times: user 6.59 ms, sys: 1.89 ms, total: 8.48 ms\n",
      "Wall time: 6.94 ms\n"
     ]
    }
   ],
   "source": [
    "%%time\n",
    "\n",
    "from sklearn_porter import Porter\n",
    "\n",
    "porter = Porter(clf)\n",
    "output = porter.export(export_data=True)\n",
    "\n",
    "print(output)"
   ]
  },
  {
   "cell_type": "markdown",
   "metadata": {},
   "source": [
    "Parameters:"
   ]
  },
  {
   "cell_type": "code",
   "execution_count": 5,
   "metadata": {},
   "outputs": [
    {
     "name": "stdout",
     "output_type": "stream",
     "text": [
      "[{\"indices\": [3, -2, 2, 3, -2, 1, -2, -2, 0, -2, 2, -2, -2], \"thresholds\": [0.75, -2.0, 4.85000038147, 1.65000009537, -2.0, 3.0, -2.0, -2.0, 6.59999990463, -2.0, 5.19999980927, -2.0, -2.0], \"classes\": [[47.0, 44.0, 59.0], [47.0, 0.0, 0.0], [0.0, 44.0, 59.0], [0.0, 43.0, 3.0], [0.0, 42.0, 0.0], [0.0, 1.0, 3.0], [0.0, 0.0, 3.0], [0.0, 1.0, 0.0], [0.0, 1.0, 56.0], [0.0, 0.0, 27.0], [0.0, 1.0, 29.0], [0.0, 1.0, 0.0], [0.0, 0.0, 29.0]], \"childrenRight\": [2, -1, 8, 5, -1, 7, -1, -1, 10, -1, 12, -1, -1], \"childrenLeft\": [1, -1, 3, 4, -1, 6, -1, -1, 9, -1, 11, -1, -1]}, {\"indices\": [3, -2, 3, 2, -2, 2, 1, -2, -2, -2, 2, 1, -2, -2, -2], \"thresholds\": [0.800000011921, -2.0, 1.75, 4.94999980927, -2.0, 5.44999980927, 2.45000004768, -2.0, -2.0, -2.0, 4.85000038147, 3.09999990463, -2.0, -2.0, -2.0], \"classes\": [[46.0, 62.0, 42.0], [46.0, 0.0, 0.0], [0.0, 62.0, 42.0], [0.0, 61.0, 5.0], [0.0, 58.0, 0.0], [0.0, 3.0, 5.0], [0.0, 3.0, 2.0], [0.0, 0.0, 2.0], [0.0, 3.0, 0.0], [0.0, 0.0, 3.0], [0.0, 1.0, 37.0], [0.0, 1.0, 2.0], [0.0, 0.0, 2.0], [0.0, 1.0, 0.0], [0.0, 0.0, 35.0]], \"childrenRight\": [2, -1, 10, 5, -1, 9, 8, -1, -1, -1, 14, 13, -1, -1, -1], \"childrenLeft\": [1, -1, 3, 4, -1, 6, 7, -1, -1, -1, 11, 12, -1, -1, -1]}, {\"indices\": [0, 3, -2, 3, -2, -2, 3, 3, -2, 2, -2, -2, 2, -2, 3, 2, -2, -2, -2], \"thresholds\": [5.55000019073, 0.800000011921, -2.0, 1.60000002384, -2.0, -2.0, 1.54999995232, 0.75, -2.0, 5.0, -2.0, -2.0, 4.65000009537, -2.0, 1.70000004768, 5.44999980927, -2.0, -2.0, -2.0], \"classes\": [[51.0, 46.0, 53.0], [49.0, 12.0, 1.0], [49.0, 0.0, 0.0], [0.0, 12.0, 1.0], [0.0, 12.0, 0.0], [0.0, 0.0, 1.0], [2.0, 34.0, 52.0], [2.0, 32.0, 1.0], [2.0, 0.0, 0.0], [0.0, 32.0, 1.0], [0.0, 32.0, 0.0], [0.0, 0.0, 1.0], [0.0, 2.0, 51.0], [0.0, 1.0, 0.0], [0.0, 1.0, 51.0], [0.0, 1.0, 3.0], [0.0, 1.0, 0.0], [0.0, 0.0, 3.0], [0.0, 0.0, 48.0]], \"childrenRight\": [6, 3, -1, 5, -1, -1, 12, 9, -1, 11, -1, -1, 14, -1, 18, 17, -1, -1, -1], \"childrenLeft\": [1, 2, -1, 4, -1, -1, 7, 8, -1, 10, -1, -1, 13, -1, 15, 16, -1, -1, -1]}, {\"indices\": [0, 1, 1, -2, 0, -2, -2, -2, 0, 3, 3, -2, 1, 3, -2, 2, -2, -2, -2, -2, 2, -2, -2], \"thresholds\": [5.44999980927, 2.80000019073, 2.45000004768, -2.0, 5.0, -2.0, -2.0, -2.0, 6.25, 1.70000004768, 0.600000023842, -2.0, 2.25, 1.25, -2.0, 4.75, -2.0, -2.0, -2.0, -2.0, 4.94999980927, -2.0, -2.0], \"classes\": [[44.0, 59.0, 47.0], [41.0, 8.0, 3.0], [0.0, 8.0, 3.0], [0.0, 5.0, 0.0], [0.0, 3.0, 3.0], [0.0, 0.0, 3.0], [0.0, 3.0, 0.0], [41.0, 0.0, 0.0], [3.0, 51.0, 44.0], [3.0, 41.0, 9.0], [3.0, 41.0, 1.0], [3.0, 0.0, 0.0], [0.0, 41.0, 1.0], [0.0, 4.0, 1.0], [0.0, 1.0, 0.0], [0.0, 3.0, 1.0], [0.0, 3.0, 0.0], [0.0, 0.0, 1.0], [0.0, 37.0, 0.0], [0.0, 0.0, 8.0], [0.0, 10.0, 35.0], [0.0, 10.0, 0.0], [0.0, 0.0, 35.0]], \"childrenRight\": [8, 7, 4, -1, 6, -1, -1, -1, 20, 19, 12, -1, 18, 15, -1, 17, -1, -1, -1, -1, 22, -1, -1], \"childrenLeft\": [1, 2, 3, -1, 5, -1, -1, -1, 9, 10, 11, -1, 13, 14, -1, 16, -1, -1, -1, -1, 21, -1, -1]}, {\"indices\": [3, -2, 3, 2, 2, -2, 3, -2, -2, 0, -2, -2, -2], \"thresholds\": [0.699999988079, -2.0, 1.75, 5.05000019073, 4.94999980927, -2.0, 1.60000002384, -2.0, -2.0, 6.05000019073, -2.0, -2.0, -2.0], \"classes\": [[50.0, 61.0, 39.0], [50.0, 0.0, 0.0], [0.0, 61.0, 39.0], [0.0, 61.0, 6.0], [0.0, 59.0, 1.0], [0.0, 56.0, 0.0], [0.0, 3.0, 1.0], [0.0, 0.0, 1.0], [0.0, 3.0, 0.0], [0.0, 2.0, 5.0], [0.0, 2.0, 0.0], [0.0, 0.0, 5.0], [0.0, 0.0, 33.0]], \"childrenRight\": [2, -1, 12, 9, 6, -1, 8, -1, -1, 11, -1, -1, -1], \"childrenLeft\": [1, -1, 3, 4, 5, -1, 7, -1, -1, 10, -1, -1, -1]}, {\"indices\": [3, -2, 2, 0, 3, -2, -2, 2, -2, 1, -2, 0, -2, 3, -2, -2, -2], \"thresholds\": [0.800000011921, -2.0, 4.94999980927, 4.94999980927, 1.35000002384, -2.0, -2.0, 4.75, -2.0, 2.59999990463, -2.0, 6.05000019073, -2.0, 1.59999990463, -2.0, -2.0, -2.0], \"classes\": [[49.0, 53.0, 48.0], [49.0, 0.0, 0.0], [0.0, 53.0, 48.0], [0.0, 53.0, 4.0], [0.0, 1.0, 1.0], [0.0, 1.0, 0.0], [0.0, 0.0, 1.0], [0.0, 52.0, 3.0], [0.0, 49.0, 0.0], [0.0, 3.0, 3.0], [0.0, 1.0, 0.0], [0.0, 2.0, 3.0], [0.0, 1.0, 0.0], [0.0, 1.0, 3.0], [0.0, 1.0, 0.0], [0.0, 0.0, 3.0], [0.0, 0.0, 44.0]], \"childrenRight\": [2, -1, 16, 7, 6, -1, -1, 9, -1, 11, -1, 13, -1, 15, -1, -1, -1], \"childrenLeft\": [1, -1, 3, 4, 5, -1, -1, 8, -1, 10, -1, 12, -1, 14, -1, -1, -1]}, {\"indices\": [3, -2, 2, 0, -2, -2, 2, 0, 3, 3, -2, -2, -2, -2, -2], \"thresholds\": [0.699999988079, -2.0, 4.75, 4.94999980927, -2.0, -2.0, 5.14999961853, 6.59999990463, 1.70000004768, 1.54999995232, -2.0, -2.0, -2.0, -2.0, -2.0], \"classes\": [[46.0, 43.0, 61.0], [46.0, 0.0, 0.0], [0.0, 43.0, 61.0], [0.0, 39.0, 2.0], [0.0, 0.0, 2.0], [0.0, 39.0, 0.0], [0.0, 4.0, 59.0], [0.0, 4.0, 21.0], [0.0, 1.0, 21.0], [0.0, 1.0, 2.0], [0.0, 0.0, 2.0], [0.0, 1.0, 0.0], [0.0, 0.0, 19.0], [0.0, 3.0, 0.0], [0.0, 0.0, 38.0]], \"childrenRight\": [2, -1, 6, 5, -1, -1, 14, 13, 12, 11, -1, -1, -1, -1, -1], \"childrenLeft\": [1, -1, 3, 4, -1, -1, 7, 8, 9, 10, -1, -1, -1, -1, -1]}, {\"indices\": [2, -2, 2, -2, 2, 3, 0, 2, -2, 0, 3, -2, -2, -2, -2, -2, -2], \"thresholds\": [2.59999990463, -2.0, 4.75, -2.0, 5.14999961853, 1.75, 6.5, 4.94999980927, -2.0, 6.15000009537, 1.54999995232, -2.0, -2.0, -2.0, -2.0, -2.0, -2.0], \"classes\": [[58.0, 41.0, 51.0], [58.0, 0.0, 0.0], [0.0, 41.0, 51.0], [0.0, 37.0, 0.0], [0.0, 4.0, 51.0], [0.0, 4.0, 17.0], [0.0, 4.0, 4.0], [0.0, 2.0, 4.0], [0.0, 1.0, 0.0], [0.0, 1.0, 4.0], [0.0, 1.0, 2.0], [0.0, 0.0, 2.0], [0.0, 1.0, 0.0], [0.0, 0.0, 2.0], [0.0, 2.0, 0.0], [0.0, 0.0, 13.0], [0.0, 0.0, 34.0]], \"childrenRight\": [2, -1, 4, -1, 16, 15, 14, 9, -1, 13, 12, -1, -1, -1, -1, -1, -1], \"childrenLeft\": [1, -1, 3, -1, 5, 6, 7, 8, -1, 10, 11, -1, -1, -1, -1, -1, -1]}, {\"indices\": [3, -2, 0, 2, 0, 1, -2, -2, -2, 3, -2, 3, -2, -2, 3, 2, -2, -2, -2], \"thresholds\": [0.699999988079, -2.0, 6.25, 4.80000019073, 4.94999980927, 2.45000004768, -2.0, -2.0, -2.0, 1.54999995232, -2.0, 1.70000004768, -2.0, -2.0, 1.75, 5.05000019073, -2.0, -2.0, -2.0], \"classes\": [[42.0, 54.0, 54.0], [42.0, 0.0, 0.0], [0.0, 54.0, 54.0], [0.0, 39.0, 11.0], [0.0, 37.0, 3.0], [0.0, 1.0, 3.0], [0.0, 1.0, 0.0], [0.0, 0.0, 3.0], [0.0, 36.0, 0.0], [0.0, 2.0, 8.0], [0.0, 0.0, 4.0], [0.0, 2.0, 4.0], [0.0, 2.0, 0.0], [0.0, 0.0, 4.0], [0.0, 15.0, 43.0], [0.0, 15.0, 4.0], [0.0, 15.0, 0.0], [0.0, 0.0, 4.0], [0.0, 0.0, 39.0]], \"childrenRight\": [2, -1, 14, 9, 8, 7, -1, -1, -1, 11, -1, 13, -1, -1, 18, 17, -1, -1, -1], \"childrenLeft\": [1, -1, 3, 4, 5, 6, -1, -1, -1, 10, -1, 12, -1, -1, 15, 16, -1, -1, -1]}, {\"indices\": [2, -2, 2, 0, -2, 3, -2, -2, 0, -2, 0, 3, -2, -2, -2], \"thresholds\": [2.59999990463, -2.0, 4.94999980927, 5.94999980927, -2.0, 1.64999997616, -2.0, -2.0, 6.59999990463, -2.0, 6.75, 2.0, -2.0, -2.0, -2.0], \"classes\": [[55.0, 40.0, 55.0], [55.0, 0.0, 0.0], [0.0, 40.0, 55.0], [0.0, 39.0, 4.0], [0.0, 23.0, 0.0], [0.0, 16.0, 4.0], [0.0, 16.0, 0.0], [0.0, 0.0, 4.0], [0.0, 1.0, 51.0], [0.0, 0.0, 33.0], [0.0, 1.0, 18.0], [0.0, 1.0, 4.0], [0.0, 1.0, 0.0], [0.0, 0.0, 4.0], [0.0, 0.0, 14.0]], \"childrenRight\": [2, -1, 8, 5, -1, 7, -1, -1, 10, -1, 14, 13, -1, -1, -1], \"childrenLeft\": [1, -1, 3, 4, -1, 6, -1, -1, 9, -1, 11, 12, -1, -1, -1]}, {\"indices\": [3, -2, 2, -2, 3, 2, -2, 1, -2, 3, -2, 2, -2, -2, 2, 1, -2, -2, -2], \"thresholds\": [0.800000011921, -2.0, 4.75, -2.0, 1.75, 4.94999980927, -2.0, 2.65000009537, -2.0, 1.54999995232, -2.0, 5.44999980927, -2.0, -2.0, 4.85000038147, 3.09999990463, -2.0, -2.0, -2.0], \"classes\": [[52.0, 44.0, 54.0], [52.0, 0.0, 0.0], [0.0, 44.0, 54.0], [0.0, 37.0, 0.0], [0.0, 7.0, 54.0], [0.0, 6.0, 5.0], [0.0, 4.0, 0.0], [0.0, 2.0, 5.0], [0.0, 0.0, 2.0], [0.0, 2.0, 3.0], [0.0, 0.0, 2.0], [0.0, 2.0, 1.0], [0.0, 2.0, 0.0], [0.0, 0.0, 1.0], [0.0, 1.0, 49.0], [0.0, 1.0, 6.0], [0.0, 0.0, 6.0], [0.0, 1.0, 0.0], [0.0, 0.0, 43.0]], \"childrenRight\": [2, -1, 4, -1, 14, 7, -1, 9, -1, 11, -1, 13, -1, -1, 18, 17, -1, -1, -1], \"childrenLeft\": [1, -1, 3, -1, 5, 6, -1, 8, -1, 10, -1, 12, -1, -1, 15, 16, -1, -1, -1]}, {\"indices\": [2, -2, 2, -2, 2, 1, 3, -2, -2, -2, 0, 2, -2, 0, -2, -2, -2], \"thresholds\": [2.59999990463, -2.0, 4.75, -2.0, 4.94999980927, 3.04999995232, 1.59999990463, -2.0, -2.0, -2.0, 6.05000019073, 5.05000019073, -2.0, 5.94999980927, -2.0, -2.0, -2.0], \"classes\": [[47.0, 45.0, 58.0], [47.0, 0.0, 0.0], [0.0, 45.0, 58.0], [0.0, 40.0, 0.0], [0.0, 5.0, 58.0], [0.0, 4.0, 7.0], [0.0, 2.0, 7.0], [0.0, 2.0, 0.0], [0.0, 0.0, 7.0], [0.0, 2.0, 0.0], [0.0, 1.0, 51.0], [0.0, 1.0, 11.0], [0.0, 0.0, 4.0], [0.0, 1.0, 7.0], [0.0, 0.0, 7.0], [0.0, 1.0, 0.0], [0.0, 0.0, 40.0]], \"childrenRight\": [2, -1, 4, -1, 10, 9, 8, -1, -1, -1, 16, 13, -1, 15, -1, -1, -1], \"childrenLeft\": [1, -1, 3, -1, 5, 6, 7, -1, -1, -1, 11, 12, -1, 14, -1, -1, -1]}, {\"indices\": [3, -2, 1, 2, -2, -2, 3, 2, -2, -2, 3, 0, -2, -2, -2], \"thresholds\": [0.800000011921, -2.0, 2.45000004768, 4.75, -2.0, -2.0, 1.60000002384, 5.0, -2.0, -2.0, 1.75, 5.80000019073, -2.0, -2.0, -2.0], \"classes\": [[54.0, 37.0, 59.0], [54.0, 0.0, 0.0], [0.0, 37.0, 59.0], [0.0, 12.0, 1.0], [0.0, 12.0, 0.0], [0.0, 0.0, 1.0], [0.0, 25.0, 58.0], [0.0, 23.0, 2.0], [0.0, 23.0, 0.0], [0.0, 0.0, 2.0], [0.0, 2.0, 56.0], [0.0, 2.0, 3.0], [0.0, 0.0, 3.0], [0.0, 2.0, 0.0], [0.0, 0.0, 53.0]], \"childrenRight\": [2, -1, 6, 5, -1, -1, 10, 9, -1, -1, 14, 13, -1, -1, -1], \"childrenLeft\": [1, -1, 3, 4, -1, -1, 7, 8, -1, -1, 11, 12, -1, -1, -1]}, {\"indices\": [0, 3, -2, 2, -2, 1, -2, -2, 2, 1, -2, -2, 3, 3, -2, -2, -2], \"thresholds\": [5.44999980927, 0.800000011921, -2.0, 4.19999980927, -2.0, 2.75, -2.0, -2.0, 4.90000009537, 3.59999990463, -2.0, -2.0, 1.70000004768, 1.54999995232, -2.0, -2.0, -2.0], \"classes\": [[43.0, 54.0, 53.0], [36.0, 7.0, 1.0], [36.0, 0.0, 0.0], [0.0, 7.0, 1.0], [0.0, 6.0, 0.0], [0.0, 1.0, 1.0], [0.0, 0.0, 1.0], [0.0, 1.0, 0.0], [7.0, 47.0, 52.0], [7.0, 43.0, 0.0], [0.0, 43.0, 0.0], [7.0, 0.0, 0.0], [0.0, 4.0, 52.0], [0.0, 4.0, 2.0], [0.0, 0.0, 2.0], [0.0, 4.0, 0.0], [0.0, 0.0, 50.0]], \"childrenRight\": [8, 3, -1, 5, -1, 7, -1, -1, 12, 11, -1, -1, 16, 15, -1, -1, -1], \"childrenLeft\": [1, 2, -1, 4, -1, 6, -1, -1, 9, 10, -1, -1, 13, 14, -1, -1, -1]}, {\"indices\": [2, -2, 3, 0, 2, -2, 0, -2, -2, -2, -2], \"thresholds\": [2.59999990463, -2.0, 1.70000004768, 7.0, 5.0, -2.0, 6.05000019073, -2.0, -2.0, -2.0, -2.0], \"classes\": [[52.0, 49.0, 49.0], [52.0, 0.0, 0.0], [0.0, 49.0, 49.0], [0.0, 49.0, 3.0], [0.0, 49.0, 2.0], [0.0, 48.0, 0.0], [0.0, 1.0, 2.0], [0.0, 1.0, 0.0], [0.0, 0.0, 2.0], [0.0, 0.0, 1.0], [0.0, 0.0, 46.0]], \"childrenRight\": [2, -1, 10, 9, 6, -1, 8, -1, -1, -1, -1], \"childrenLeft\": [1, -1, 3, 4, 5, -1, 7, -1, -1, -1, -1]}]"
     ]
    }
   ],
   "source": [
    "%%bash\n",
    "\n",
    "cat data.json"
   ]
  },
  {
   "cell_type": "markdown",
   "metadata": {},
   "source": [
    "### Run classification in Java:"
   ]
  },
  {
   "cell_type": "markdown",
   "metadata": {},
   "source": [
    "Save the transpiled estimator:"
   ]
  },
  {
   "cell_type": "code",
   "execution_count": 7,
   "metadata": {
    "collapsed": true
   },
   "outputs": [],
   "source": [
    "with open('RandomForestClassifier.java', 'w') as f:\n",
    "    f.write(output)"
   ]
  },
  {
   "cell_type": "markdown",
   "metadata": {},
   "source": [
    "Download the dependencies:"
   ]
  },
  {
   "cell_type": "code",
   "execution_count": 8,
   "metadata": {},
   "outputs": [
    {
     "name": "stderr",
     "output_type": "stream",
     "text": [
      "--2017-11-26 21:49:59--  http://central.maven.org/maven2/com/google/code/gson/gson/2.8.2/gson-2.8.2.jar\n",
      "Resolving central.maven.org... 151.101.36.209\n",
      "Connecting to central.maven.org|151.101.36.209|:80... connected.\n",
      "HTTP request sent, awaiting response... 200 OK\n",
      "Length: 232932 (227K) [application/java-archive]\n",
      "Saving to: 'gson-2.8.2.jar.3'\n",
      "\n",
      "     0K .......... .......... .......... .......... .......... 21% 1.66M 0s\n",
      "    50K .......... .......... .......... .......... .......... 43% 4.30M 0s\n",
      "   100K .......... .......... .......... .......... .......... 65% 6.07M 0s\n",
      "   150K .......... .......... .......... .......... .......... 87% 7.76M 0s\n",
      "   200K .......... .......... .......                         100% 5.68M=0.06s\n",
      "\n",
      "2017-11-26 21:49:59 (3.71 MB/s) - 'gson-2.8.2.jar.3' saved [232932/232932]\n",
      "\n"
     ]
    }
   ],
   "source": [
    "%%bash\n",
    "\n",
    "wget http://central.maven.org/maven2/com/google/code/gson/gson/2.8.2/gson-2.8.2.jar"
   ]
  },
  {
   "cell_type": "markdown",
   "metadata": {},
   "source": [
    "Compiling:"
   ]
  },
  {
   "cell_type": "code",
   "execution_count": 9,
   "metadata": {
    "collapsed": true
   },
   "outputs": [],
   "source": [
    "%%bash\n",
    "\n",
    "javac -cp .:gson-2.8.2.jar RandomForestClassifier.java"
   ]
  },
  {
   "cell_type": "markdown",
   "metadata": {},
   "source": [
    "Prediction:"
   ]
  },
  {
   "cell_type": "code",
   "execution_count": 10,
   "metadata": {},
   "outputs": [
    {
     "name": "stdout",
     "output_type": "stream",
     "text": [
      "1\n"
     ]
    }
   ],
   "source": [
    "%%bash\n",
    "\n",
    "java -cp .:gson-2.8.2.jar RandomForestClassifier data.json 1 2 3 4"
   ]
  }
 ],
 "metadata": {
  "kernelspec": {
   "display_name": "Python 2",
   "language": "python",
   "name": "python2"
  },
  "language_info": {
   "codemirror_mode": {
    "name": "ipython",
    "version": 2
   },
   "file_extension": ".py",
   "mimetype": "text/x-python",
   "name": "python",
   "nbconvert_exporter": "python",
   "pygments_lexer": "ipython2",
   "version": "2.7.13"
  }
 },
 "nbformat": 4,
 "nbformat_minor": 2
}
