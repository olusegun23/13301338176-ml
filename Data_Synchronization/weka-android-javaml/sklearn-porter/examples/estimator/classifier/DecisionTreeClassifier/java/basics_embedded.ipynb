{
 "cells": [
  {
   "cell_type": "markdown",
   "metadata": {},
   "source": [
    "# sklearn-porter\n",
    "\n",
    "Repository: https://github.com/nok/sklearn-porter\n",
    "\n",
    "## DecisionTreeClassifier\n",
    "\n",
    "Documentation: [sklearn.tree.DecisionTreeClassifier](http://scikit-learn.org/stable/modules/generated/sklearn.tree.DecisionTreeClassifier.html)"
   ]
  },
  {
   "cell_type": "markdown",
   "metadata": {},
   "source": [
    "### Loading data:"
   ]
  },
  {
   "cell_type": "code",
   "execution_count": 1,
   "metadata": {},
   "outputs": [
    {
     "name": "stdout",
     "output_type": "stream",
     "text": [
      "((150, 4), (150,))\n"
     ]
    }
   ],
   "source": [
    "from sklearn.datasets import load_iris\n",
    "\n",
    "iris_data = load_iris()\n",
    "X = iris_data.data\n",
    "y = iris_data.target\n",
    "\n",
    "print(X.shape, y.shape)"
   ]
  },
  {
   "cell_type": "markdown",
   "metadata": {},
   "source": [
    "### Train classifier:"
   ]
  },
  {
   "cell_type": "code",
   "execution_count": 2,
   "metadata": {},
   "outputs": [
    {
     "data": {
      "text/plain": [
       "DecisionTreeClassifier(class_weight=None, criterion='gini', max_depth=None,\n",
       "            max_features=None, max_leaf_nodes=None,\n",
       "            min_impurity_decrease=0.0, min_impurity_split=None,\n",
       "            min_samples_leaf=1, min_samples_split=2,\n",
       "            min_weight_fraction_leaf=0.0, presort=False, random_state=None,\n",
       "            splitter='best')"
      ]
     },
     "execution_count": 2,
     "metadata": {},
     "output_type": "execute_result"
    }
   ],
   "source": [
    "from sklearn.tree import tree\n",
    "\n",
    "clf = tree.DecisionTreeClassifier()\n",
    "clf.fit(X, y)"
   ]
  },
  {
   "cell_type": "markdown",
   "metadata": {},
   "source": [
    "### Transpile classifier:"
   ]
  },
  {
   "cell_type": "code",
   "execution_count": 4,
   "metadata": {
    "scrolled": false
   },
   "outputs": [
    {
     "name": "stdout",
     "output_type": "stream",
     "text": [
      "class DecisionTreeClassifier {\n",
      "\n",
      "    private static int findMax(int[] nums) {\n",
      "        int index = 0;\n",
      "        for (int i = 0; i < nums.length; i++) {\n",
      "            index = nums[i] > nums[index] ? i : index;\n",
      "        }\n",
      "        return index;\n",
      "    }\n",
      "\n",
      "    public static int predict(double[] features) {\n",
      "        int[] classes = new int[3];\n",
      "            \n",
      "        if (features[3] <= 0.800000011921) {\n",
      "            classes[0] = 50; \n",
      "            classes[1] = 0; \n",
      "            classes[2] = 0; \n",
      "        } else {\n",
      "            if (features[3] <= 1.75) {\n",
      "                if (features[2] <= 4.94999980927) {\n",
      "                    if (features[3] <= 1.65000009537) {\n",
      "                        classes[0] = 0; \n",
      "                        classes[1] = 47; \n",
      "                        classes[2] = 0; \n",
      "                    } else {\n",
      "                        classes[0] = 0; \n",
      "                        classes[1] = 0; \n",
      "                        classes[2] = 1; \n",
      "                    }\n",
      "                } else {\n",
      "                    if (features[3] <= 1.54999995232) {\n",
      "                        classes[0] = 0; \n",
      "                        classes[1] = 0; \n",
      "                        classes[2] = 3; \n",
      "                    } else {\n",
      "                        if (features[2] <= 5.44999980927) {\n",
      "                            classes[0] = 0; \n",
      "                            classes[1] = 2; \n",
      "                            classes[2] = 0; \n",
      "                        } else {\n",
      "                            classes[0] = 0; \n",
      "                            classes[1] = 0; \n",
      "                            classes[2] = 1; \n",
      "                        }\n",
      "                    }\n",
      "                }\n",
      "            } else {\n",
      "                if (features[2] <= 4.85000038147) {\n",
      "                    if (features[1] <= 3.09999990463) {\n",
      "                        classes[0] = 0; \n",
      "                        classes[1] = 0; \n",
      "                        classes[2] = 2; \n",
      "                    } else {\n",
      "                        classes[0] = 0; \n",
      "                        classes[1] = 1; \n",
      "                        classes[2] = 0; \n",
      "                    }\n",
      "                } else {\n",
      "                    classes[0] = 0; \n",
      "                    classes[1] = 0; \n",
      "                    classes[2] = 43; \n",
      "                }\n",
      "            }\n",
      "        }\n",
      "    \n",
      "        return findMax(classes);\n",
      "    }\n",
      "\n",
      "    public static void main(String[] args) {\n",
      "        if (args.length == 4) {\n",
      "\n",
      "            // Features:\n",
      "            double[] features = new double[args.length];\n",
      "            for (int i = 0, l = args.length; i < l; i++) {\n",
      "                features[i] = Double.parseDouble(args[i]);\n",
      "            }\n",
      "\n",
      "            // Prediction:\n",
      "            int prediction = DecisionTreeClassifier.predict(features);\n",
      "            System.out.println(prediction);\n",
      "\n",
      "        }\n",
      "    }\n",
      "}\n",
      "CPU times: user 2.04 ms, sys: 1.55 ms, total: 3.6 ms\n",
      "Wall time: 2.29 ms\n"
     ]
    }
   ],
   "source": [
    "%%time\n",
    "\n",
    "from sklearn_porter import Porter\n",
    "\n",
    "porter = Porter(clf)\n",
    "output = porter.export(embed_data=True)\n",
    "\n",
    "print(output)"
   ]
  },
  {
   "cell_type": "markdown",
   "metadata": {},
   "source": [
    "### Run classification in Java:"
   ]
  },
  {
   "cell_type": "markdown",
   "metadata": {},
   "source": [
    "Save the estimator:"
   ]
  },
  {
   "cell_type": "code",
   "execution_count": 5,
   "metadata": {
    "collapsed": true
   },
   "outputs": [],
   "source": [
    "with open('DecisionTreeClassifier.java', 'w') as f:\n",
    "    f.write(output)"
   ]
  },
  {
   "cell_type": "markdown",
   "metadata": {},
   "source": [
    "Compiling:"
   ]
  },
  {
   "cell_type": "code",
   "execution_count": 6,
   "metadata": {},
   "outputs": [],
   "source": [
    "%%bash\n",
    "\n",
    "javac -cp . DecisionTreeClassifier.java"
   ]
  },
  {
   "cell_type": "markdown",
   "metadata": {
    "collapsed": true
   },
   "source": [
    "Prediction:"
   ]
  },
  {
   "cell_type": "code",
   "execution_count": 7,
   "metadata": {},
   "outputs": [
    {
     "name": "stdout",
     "output_type": "stream",
     "text": [
      "2\n"
     ]
    }
   ],
   "source": [
    "%%bash\n",
    "\n",
    "java -cp . DecisionTreeClassifier 1 2 3 4"
   ]
  }
 ],
 "metadata": {
  "kernelspec": {
   "display_name": "Python 2",
   "language": "python",
   "name": "python2"
  },
  "language_info": {
   "codemirror_mode": {
    "name": "ipython",
    "version": 2
   },
   "file_extension": ".py",
   "mimetype": "text/x-python",
   "name": "python",
   "nbconvert_exporter": "python",
   "pygments_lexer": "ipython2",
   "version": "2.7.13"
  }
 },
 "nbformat": 4,
 "nbformat_minor": 2
}
