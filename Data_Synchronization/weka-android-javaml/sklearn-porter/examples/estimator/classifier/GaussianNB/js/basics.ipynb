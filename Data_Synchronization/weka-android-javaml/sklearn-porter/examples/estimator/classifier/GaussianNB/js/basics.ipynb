{
 "cells": [
  {
   "cell_type": "markdown",
   "metadata": {},
   "source": [
    "# sklearn-porter\n",
    "\n",
    "Repository: https://github.com/nok/sklearn-porter\n",
    "\n",
    "## GaussianNB\n",
    "\n",
    "Documentation: [sklearn.naive_bayes.GaussianNB](http://scikit-learn.org/stable/modules/generated/sklearn.naive_bayes.GaussianNB.html)"
   ]
  },
  {
   "cell_type": "markdown",
   "metadata": {},
   "source": [
    "### Loading data:"
   ]
  },
  {
   "cell_type": "code",
   "execution_count": 1,
   "metadata": {},
   "outputs": [
    {
     "name": "stdout",
     "output_type": "stream",
     "text": [
      "((150, 4), (150,))\n"
     ]
    }
   ],
   "source": [
    "from sklearn.datasets import load_iris\n",
    "\n",
    "iris_data = load_iris()\n",
    "X = iris_data.data\n",
    "y = iris_data.target\n",
    "\n",
    "print(X.shape, y.shape)"
   ]
  },
  {
   "cell_type": "markdown",
   "metadata": {},
   "source": [
    "### Train classifier:"
   ]
  },
  {
   "cell_type": "code",
   "execution_count": 2,
   "metadata": {},
   "outputs": [
    {
     "data": {
      "text/plain": [
       "GaussianNB(priors=None)"
      ]
     },
     "execution_count": 2,
     "metadata": {},
     "output_type": "execute_result"
    }
   ],
   "source": [
    "from sklearn.naive_bayes import GaussianNB\n",
    "\n",
    "clf = GaussianNB()\n",
    "clf.fit(X, y)"
   ]
  },
  {
   "cell_type": "markdown",
   "metadata": {},
   "source": [
    "### Transpile classifier:"
   ]
  },
  {
   "cell_type": "code",
   "execution_count": 3,
   "metadata": {
    "scrolled": false
   },
   "outputs": [
    {
     "name": "stdout",
     "output_type": "stream",
     "text": [
      "var GaussianNB = function(priors, sigmas, thetas) {\n",
      "\n",
      "    this.priors = priors;\n",
      "    this.sigmas = sigmas;\n",
      "    this.thetas = thetas;\n",
      "\n",
      "    this.predict = function(features) {\n",
      "        var likelihoods = new Array(this.sigmas.length);\n",
      "    \n",
      "        for (var i = 0, il = this.sigmas.length; i < il; i++) {\n",
      "            var sum = 0.;\n",
      "            for (var j = 0, jl = this.sigmas[0].length; j < jl; j++) {\n",
      "                sum += Math.log(2. * Math.PI * this.sigmas[i][j]);\n",
      "            }\n",
      "            var nij = -0.5 * sum;\n",
      "            sum = 0.;\n",
      "            for (var j = 0, jl = this.sigmas[0].length; j < jl; j++) {\n",
      "                sum += Math.pow(features[j] - this.thetas[i][j], 2.) / this.sigmas[i][j];\n",
      "            }\n",
      "            nij -= 0.5 * sum;\n",
      "            likelihoods[i] = Math.log(this.priors[i]) + nij;\n",
      "        }\n",
      "    \n",
      "        var classIdx = 0;\n",
      "        for (var i = 0, l = likelihoods.length; i < l; i++) {\n",
      "            classIdx = likelihoods[i] > likelihoods[classIdx] ? i : classIdx;\n",
      "        }\n",
      "        return classIdx;\n",
      "    };\n",
      "\n",
      "};\n",
      "\n",
      "if (typeof process !== 'undefined' && typeof process.argv !== 'undefined') {\n",
      "    if (process.argv.length - 2 === 4) {\n",
      "\n",
      "        // Features:\n",
      "        var features = process.argv.slice(2);\n",
      "\n",
      "        // Parameters:\n",
      "        var priors = [0.33333333333333331, 0.33333333333333331, 0.33333333333333331];\n",
      "        var sigmas = [[0.12176400309242481, 0.14227600309242491, 0.029504003092424898, 0.011264003092424885], [0.26110400309242499, 0.096500003092424902, 0.21640000309242502, 0.038324003092424869], [0.39625600309242481, 0.10192400309242496, 0.29849600309242508, 0.073924003092424875]];\n",
      "        var thetas = [[5.0059999999999993, 3.4180000000000006, 1.464, 0.24399999999999991], [5.9359999999999999, 2.7700000000000005, 4.2599999999999998, 1.3259999999999998], [6.5879999999999983, 2.9739999999999998, 5.5519999999999996, 2.0259999999999998]];\n",
      "\n",
      "        // Estimator:\n",
      "        var clf = new GaussianNB(priors, sigmas, thetas);\n",
      "        var prediction = clf.predict(features);\n",
      "        console.log(prediction);\n",
      "\n",
      "    }\n",
      "}\n"
     ]
    }
   ],
   "source": [
    "from sklearn_porter import Porter\n",
    "\n",
    "porter = Porter(clf, language='js')\n",
    "output = porter.export()\n",
    "\n",
    "print(output)"
   ]
  }
 ],
 "metadata": {
  "kernelspec": {
   "display_name": "Python 2",
   "language": "python",
   "name": "python2"
  },
  "language_info": {
   "codemirror_mode": {
    "name": "ipython",
    "version": 2
   },
   "file_extension": ".py",
   "mimetype": "text/x-python",
   "name": "python",
   "nbconvert_exporter": "python",
   "pygments_lexer": "ipython2",
   "version": "2.7.13"
  }
 },
 "nbformat": 4,
 "nbformat_minor": 2
}
